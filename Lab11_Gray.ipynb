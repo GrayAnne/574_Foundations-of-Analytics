{
 "cells": [
  {
   "cell_type": "raw",
   "id": "d4a8eb26",
   "metadata": {},
   "source": [
    "Name:Gray Li\n",
    "ID:511104"
   ]
  },
  {
   "cell_type": "markdown",
   "id": "7e604300",
   "metadata": {},
   "source": [
    "Sevtion 1"
   ]
  },
  {
   "cell_type": "code",
   "execution_count": 1,
   "id": "4ed5c766",
   "metadata": {},
   "outputs": [
    {
     "data": {
      "text/html": [
       "<div>\n",
       "<style scoped>\n",
       "    .dataframe tbody tr th:only-of-type {\n",
       "        vertical-align: middle;\n",
       "    }\n",
       "\n",
       "    .dataframe tbody tr th {\n",
       "        vertical-align: top;\n",
       "    }\n",
       "\n",
       "    .dataframe thead th {\n",
       "        text-align: right;\n",
       "    }\n",
       "</style>\n",
       "<table border=\"1\" class=\"dataframe\">\n",
       "  <thead>\n",
       "    <tr style=\"text-align: right;\">\n",
       "      <th></th>\n",
       "      <th>cid</th>\n",
       "      <th>age</th>\n",
       "      <th>school</th>\n",
       "      <th>sex</th>\n",
       "      <th>items</th>\n",
       "      <th>dollars</th>\n",
       "      <th>segment</th>\n",
       "    </tr>\n",
       "  </thead>\n",
       "  <tbody>\n",
       "    <tr>\n",
       "      <th>0</th>\n",
       "      <td>1</td>\n",
       "      <td>48</td>\n",
       "      <td>14</td>\n",
       "      <td>male</td>\n",
       "      <td>3</td>\n",
       "      <td>14</td>\n",
       "      <td>8</td>\n",
       "    </tr>\n",
       "    <tr>\n",
       "      <th>1</th>\n",
       "      <td>2</td>\n",
       "      <td>26</td>\n",
       "      <td>10</td>\n",
       "      <td>female</td>\n",
       "      <td>1</td>\n",
       "      <td>7</td>\n",
       "      <td>1</td>\n",
       "    </tr>\n",
       "    <tr>\n",
       "      <th>2</th>\n",
       "      <td>3</td>\n",
       "      <td>23</td>\n",
       "      <td>16</td>\n",
       "      <td>male</td>\n",
       "      <td>2</td>\n",
       "      <td>16</td>\n",
       "      <td>2</td>\n",
       "    </tr>\n",
       "    <tr>\n",
       "      <th>3</th>\n",
       "      <td>4</td>\n",
       "      <td>32</td>\n",
       "      <td>18</td>\n",
       "      <td>female</td>\n",
       "      <td>7</td>\n",
       "      <td>81</td>\n",
       "      <td>3</td>\n",
       "    </tr>\n",
       "    <tr>\n",
       "      <th>4</th>\n",
       "      <td>5</td>\n",
       "      <td>55</td>\n",
       "      <td>16</td>\n",
       "      <td>male</td>\n",
       "      <td>4</td>\n",
       "      <td>58</td>\n",
       "      <td>4</td>\n",
       "    </tr>\n",
       "    <tr>\n",
       "      <th>...</th>\n",
       "      <td>...</td>\n",
       "      <td>...</td>\n",
       "      <td>...</td>\n",
       "      <td>...</td>\n",
       "      <td>...</td>\n",
       "      <td>...</td>\n",
       "      <td>...</td>\n",
       "    </tr>\n",
       "    <tr>\n",
       "      <th>799995</th>\n",
       "      <td>799996</td>\n",
       "      <td>37</td>\n",
       "      <td>17</td>\n",
       "      <td>female</td>\n",
       "      <td>10</td>\n",
       "      <td>75</td>\n",
       "      <td>3</td>\n",
       "    </tr>\n",
       "    <tr>\n",
       "      <th>799996</th>\n",
       "      <td>799997</td>\n",
       "      <td>55</td>\n",
       "      <td>16</td>\n",
       "      <td>female</td>\n",
       "      <td>5</td>\n",
       "      <td>61</td>\n",
       "      <td>4</td>\n",
       "    </tr>\n",
       "    <tr>\n",
       "      <th>799997</th>\n",
       "      <td>799998</td>\n",
       "      <td>67</td>\n",
       "      <td>14</td>\n",
       "      <td>male</td>\n",
       "      <td>3</td>\n",
       "      <td>5</td>\n",
       "      <td>5</td>\n",
       "    </tr>\n",
       "    <tr>\n",
       "      <th>799998</th>\n",
       "      <td>799999</td>\n",
       "      <td>34</td>\n",
       "      <td>13</td>\n",
       "      <td>male</td>\n",
       "      <td>2</td>\n",
       "      <td>8</td>\n",
       "      <td>6</td>\n",
       "    </tr>\n",
       "    <tr>\n",
       "      <th>799999</th>\n",
       "      <td>800000</td>\n",
       "      <td>45</td>\n",
       "      <td>16</td>\n",
       "      <td>male</td>\n",
       "      <td>1</td>\n",
       "      <td>34</td>\n",
       "      <td>7</td>\n",
       "    </tr>\n",
       "  </tbody>\n",
       "</table>\n",
       "<p>800000 rows × 7 columns</p>\n",
       "</div>"
      ],
      "text/plain": [
       "           cid  age  school     sex  items  dollars  segment\n",
       "0            1   48      14    male      3       14        8\n",
       "1            2   26      10  female      1        7        1\n",
       "2            3   23      16    male      2       16        2\n",
       "3            4   32      18  female      7       81        3\n",
       "4            5   55      16    male      4       58        4\n",
       "...        ...  ...     ...     ...    ...      ...      ...\n",
       "799995  799996   37      17  female     10       75        3\n",
       "799996  799997   55      16  female      5       61        4\n",
       "799997  799998   67      14    male      3        5        5\n",
       "799998  799999   34      13    male      2        8        6\n",
       "799999  800000   45      16    male      1       34        7\n",
       "\n",
       "[800000 rows x 7 columns]"
      ]
     },
     "execution_count": 1,
     "metadata": {},
     "output_type": "execute_result"
    }
   ],
   "source": [
    "import pandas as pd\n",
    "import matplotlib.pyplot as plt\n",
    "\n",
    "# Load the dataset\n",
    "data = pd.read_csv(\"segmentData.csv\")\n",
    "data"
   ]
  },
  {
   "cell_type": "code",
   "execution_count": 13,
   "id": "a54e3fac",
   "metadata": {},
   "outputs": [
    {
     "name": "stdout",
     "output_type": "stream",
     "text": [
      "   segment       cid       age    school      sex    items   dollars\n",
      "0        1  399998.0  22.66828  10.44376  0.49497  1.36501   6.79798\n",
      "1        2  399999.0  24.05608  15.80716  0.49496  1.80906  15.51609\n",
      "2        3  400000.0  34.50573  17.81266  0.49567  8.50312  74.49335\n",
      "3        4  400001.0  54.49724  16.36582  0.49420  5.49679  61.50463\n",
      "4        5  400002.0  71.86368  13.49566  0.74764  2.55861   8.68422\n",
      "5        6  400003.0  34.50223  13.44966  0.49552  2.55283   9.57435\n",
      "6        7  400004.0  44.54140  15.52418  0.24221  1.81227  36.50430\n",
      "7        8  399997.0  45.50983  13.50443  0.49291  2.56042  11.51952\n"
     ]
    }
   ],
   "source": [
    "'''\n",
    "1. Describe the centroids of the 8 segments by creating a table of the mean of each variable for the\n",
    "segment. Sex will need to be recoded.\n",
    "'''\n",
    "data['sex'] = data['sex'].map({'male': 0, 'female': 1})\n",
    "centroids = data.groupby('segment').mean().reset_index()\n",
    "# Recode Sex if needed\n",
    "# centroids['sex'] = centroids['sex'].map({1: 'male', 2: 'female'})\n",
    "print(centroids)"
   ]
  },
  {
   "cell_type": "code",
   "execution_count": 20,
   "id": "a400d057",
   "metadata": {
    "scrolled": false
   },
   "outputs": [
    {
     "name": "stdout",
     "output_type": "stream",
     "text": [
      "Differences of average between segments 1 & 2:\n",
      "segment    -1.00000\n",
      "cid        -1.00000\n",
      "age       -10.44965\n",
      "school     -2.00550\n",
      "sex        -0.00071\n",
      "items      -6.69406\n",
      "dollars   -58.97726\n",
      "dtype: float64\n",
      "Differences of variance between segments 1 & 2:\n",
      "segment   -1.000000\n",
      "cid        0.000000\n",
      "age        2.531073\n",
      "school    -0.016011\n",
      "sex       -0.000007\n",
      "items     -0.431093\n",
      "dollars   -9.227007\n",
      "dtype: float64\n",
      "\n",
      "Differences of average between segments 5 & 7:\n",
      "segment    -2.00000\n",
      "cid         6.00000\n",
      "age       -11.00760\n",
      "school     -0.05477\n",
      "sex         0.00261\n",
      "items      -0.00759\n",
      "dollars    -1.94517\n",
      "dtype: float64\n",
      "Differences of variance between segments 5 & 7:\n",
      "segment   -2.000000\n",
      "cid        0.000000\n",
      "age       -8.009048\n",
      "school    -0.158976\n",
      "sex        0.000030\n",
      "items     -0.017741\n",
      "dollars   -0.469312\n",
      "dtype: float64\n"
     ]
    }
   ],
   "source": [
    "'''2. Explain differences you see between segments.\n",
    "a. How do segments 1 & 2 differ?\n",
    "b. What are the differences between 5 & 7?\n",
    "'''\n",
    "var = data.groupby('segment').var().reset_index()\n",
    "\n",
    "diff_ave12 = centroids.loc[1] - centroids.loc[2]\n",
    "diff_var12 = var.loc[1] - var.loc[2]\n",
    "print(\"Differences of average between segments 1 & 2:\")\n",
    "print(diff_ave12)\n",
    "print(\"Differences of variance between segments 1 & 2:\")\n",
    "print(diff_var12)\n",
    "\n",
    "# b\n",
    "diff_ave57 = centroids.loc[5] - centroids.loc[7]\n",
    "diff_var57 = var.loc[5] - var.loc[7]\n",
    "print(\"\\nDifferences of average between segments 5 & 7:\")\n",
    "print(diff_ave57)\n",
    "print(\"Differences of variance between segments 5 & 7:\")\n",
    "print(diff_var57)"
   ]
  },
  {
   "cell_type": "code",
   "execution_count": 21,
   "id": "afa055cb",
   "metadata": {},
   "outputs": [
    {
     "name": "stdout",
     "output_type": "stream",
     "text": [
      "Segment to focus on for advertising campaign: 6\n"
     ]
    }
   ],
   "source": [
    "'''. If you were going to create an advertising campaign to target Millennials (born between 1981 –\n",
    "1996) who weren’t buying many items, which segment would you focus on?\n",
    "'''\n",
    "millennials = data[(data['age'] >= 27) & (data['age'] <= 42)]\n",
    "low_buying_millennials = millennials[millennials['items'] < millennials['items'].mean()]\n",
    "target_segment = low_buying_millennials['segment'].mode().values[0]\n",
    "print(\"Segment to focus on for advertising campaign:\", target_segment)"
   ]
  },
  {
   "cell_type": "markdown",
   "id": "e9bc4498",
   "metadata": {},
   "source": [
    "Section 2"
   ]
  },
  {
   "cell_type": "code",
   "execution_count": 19,
   "id": "6e96f5c5",
   "metadata": {},
   "outputs": [
    {
     "data": {
      "text/html": [
       "<div>\n",
       "<style scoped>\n",
       "    .dataframe tbody tr th:only-of-type {\n",
       "        vertical-align: middle;\n",
       "    }\n",
       "\n",
       "    .dataframe tbody tr th {\n",
       "        vertical-align: top;\n",
       "    }\n",
       "\n",
       "    .dataframe thead th {\n",
       "        text-align: right;\n",
       "    }\n",
       "</style>\n",
       "<table border=\"1\" class=\"dataframe\">\n",
       "  <thead>\n",
       "    <tr style=\"text-align: right;\">\n",
       "      <th></th>\n",
       "      <th>segment</th>\n",
       "      <th>dollars</th>\n",
       "      <th>Gain</th>\n",
       "      <th>Cumulative Gain</th>\n",
       "      <th>Lift</th>\n",
       "      <th>Expected</th>\n",
       "      <th>Cumulative Lift</th>\n",
       "    </tr>\n",
       "  </thead>\n",
       "  <tbody>\n",
       "    <tr>\n",
       "      <th>0</th>\n",
       "      <td>3</td>\n",
       "      <td>7449335</td>\n",
       "      <td>33.167940</td>\n",
       "      <td>33.167940</td>\n",
       "      <td>165.343523</td>\n",
       "      <td>2807430.5</td>\n",
       "      <td>165.343523</td>\n",
       "    </tr>\n",
       "    <tr>\n",
       "      <th>1</th>\n",
       "      <td>4</td>\n",
       "      <td>6150463</td>\n",
       "      <td>27.384752</td>\n",
       "      <td>60.552692</td>\n",
       "      <td>119.078015</td>\n",
       "      <td>2807430.5</td>\n",
       "      <td>142.210769</td>\n",
       "    </tr>\n",
       "    <tr>\n",
       "      <th>2</th>\n",
       "      <td>7</td>\n",
       "      <td>3650430</td>\n",
       "      <td>16.253430</td>\n",
       "      <td>76.806122</td>\n",
       "      <td>30.027440</td>\n",
       "      <td>2807430.5</td>\n",
       "      <td>104.816326</td>\n",
       "    </tr>\n",
       "    <tr>\n",
       "      <th>3</th>\n",
       "      <td>2</td>\n",
       "      <td>1551609</td>\n",
       "      <td>6.908492</td>\n",
       "      <td>83.714615</td>\n",
       "      <td>-44.732060</td>\n",
       "      <td>2807430.5</td>\n",
       "      <td>67.429229</td>\n",
       "    </tr>\n",
       "    <tr>\n",
       "      <th>4</th>\n",
       "      <td>8</td>\n",
       "      <td>1151952</td>\n",
       "      <td>5.129032</td>\n",
       "      <td>88.843646</td>\n",
       "      <td>-58.967746</td>\n",
       "      <td>2807430.5</td>\n",
       "      <td>42.149834</td>\n",
       "    </tr>\n",
       "    <tr>\n",
       "      <th>5</th>\n",
       "      <td>6</td>\n",
       "      <td>957435</td>\n",
       "      <td>4.262951</td>\n",
       "      <td>93.106597</td>\n",
       "      <td>-65.896395</td>\n",
       "      <td>2807430.5</td>\n",
       "      <td>24.142129</td>\n",
       "    </tr>\n",
       "    <tr>\n",
       "      <th>6</th>\n",
       "      <td>5</td>\n",
       "      <td>868422</td>\n",
       "      <td>3.866623</td>\n",
       "      <td>96.973220</td>\n",
       "      <td>-69.067017</td>\n",
       "      <td>2807430.5</td>\n",
       "      <td>10.826537</td>\n",
       "    </tr>\n",
       "    <tr>\n",
       "      <th>7</th>\n",
       "      <td>1</td>\n",
       "      <td>679798</td>\n",
       "      <td>3.026780</td>\n",
       "      <td>100.000000</td>\n",
       "      <td>-75.785759</td>\n",
       "      <td>2807430.5</td>\n",
       "      <td>0.000000</td>\n",
       "    </tr>\n",
       "  </tbody>\n",
       "</table>\n",
       "</div>"
      ],
      "text/plain": [
       "   segment  dollars       Gain  Cumulative Gain        Lift   Expected  \\\n",
       "0        3  7449335  33.167940        33.167940  165.343523  2807430.5   \n",
       "1        4  6150463  27.384752        60.552692  119.078015  2807430.5   \n",
       "2        7  3650430  16.253430        76.806122   30.027440  2807430.5   \n",
       "3        2  1551609   6.908492        83.714615  -44.732060  2807430.5   \n",
       "4        8  1151952   5.129032        88.843646  -58.967746  2807430.5   \n",
       "5        6   957435   4.262951        93.106597  -65.896395  2807430.5   \n",
       "6        5   868422   3.866623        96.973220  -69.067017  2807430.5   \n",
       "7        1   679798   3.026780       100.000000  -75.785759  2807430.5   \n",
       "\n",
       "   Cumulative Lift  \n",
       "0       165.343523  \n",
       "1       142.210769  \n",
       "2       104.816326  \n",
       "3        67.429229  \n",
       "4        42.149834  \n",
       "5        24.142129  \n",
       "6        10.826537  \n",
       "7         0.000000  "
      ]
     },
     "execution_count": 19,
     "metadata": {},
     "output_type": "execute_result"
    }
   ],
   "source": [
    "'''1. Compute the gain, cumulative gain, lift, and cumulative lift for each segment. Don’t forget to\n",
    "sort to compute the cumulative statistics. Use the following formulas.\n",
    "'''\n",
    "df = data.groupby('segment')['dollars'].sum().reset_index()\n",
    "data_sorted = df.sort_values(by='dollars', ascending=False)\n",
    "data_sorted['Gain'] = (data_sorted['dollars'] / data_sorted['dollars'].sum())*100\n",
    "data_sorted['Cumulative Gain'] = df_sorted['Gain'].cumsum()\n",
    "data_sorted['Lift'] = ((data_sorted['dollars'] / data_sorted['dollars'].mean()) - 1) * 100\n",
    "data_sorted['Expected'] = data_sorted['dollars'].mean()\n",
    "data_sorted['Cumulative Lift'] = ((data_sorted['dollars'].cumsum() - df_sorted['Expected'].cumsum())/data_sorted['Expected'].cumsum())*100\n",
    "data_sorted.reset_index().drop('index', axis = 1)"
   ]
  },
  {
   "cell_type": "code",
   "execution_count": 22,
   "id": "685e4d02",
   "metadata": {},
   "outputs": [
    {
     "data": {
      "image/png": "[encoded data removed]",
      "text/plain": [
       "<Figure size 432x288 with 1 Axes>"
      ]
     },
     "metadata": {
      "needs_background": "light"
     },
     "output_type": "display_data"
    }
   ],
   "source": [
    "'''2.a. Plot the gain as a bar chart.'''\n",
    "segment = [str(i+1) for i in list(df_sorted.index)]\n",
    "plt.bar(segment, data_sorted['Gain'])\n",
    "plt.xlabel('Segment')\n",
    "plt.ylabel('Gain')\n",
    "plt.title('Gain for each Segment')\n",
    "plt.show()\n"
   ]
  },
  {
   "cell_type": "code",
   "execution_count": 26,
   "id": "c5b5e3a5",
   "metadata": {},
   "outputs": [
    {
     "data": {
      "image/png": "[encoded data removed]",
      "text/plain": [
       "<Figure size 432x288 with 1 Axes>"
      ]
     },
     "metadata": {
      "needs_background": "light"
     },
     "output_type": "display_data"
    }
   ],
   "source": [
    "'''2.b. Plot the cumulative gain as a line chart.'''\n",
    "plt.plot(segment, df_sorted['Cumulative Gain'], marker='o', linestyle='-')\n",
    "plt.xlabel('Segment')\n",
    "plt.ylabel('Cumulative Gain')\n",
    "plt.title('Cumulative Gain for each Segment')\n",
    "plt.show()\n"
   ]
  },
  {
   "cell_type": "raw",
   "id": "1471c2d7",
   "metadata": {},
   "source": [
    "'''\n",
    "2.c. If you were going to create a rewards program for your best customers, which segments\n",
    "would you target?'''\n",
    "I would target the segment 3 because the segments have highest gain compare to other segments."
   ]
  },
  {
   "cell_type": "code",
   "execution_count": 27,
   "id": "6c255770",
   "metadata": {},
   "outputs": [
    {
     "data": {
      "image/png": "[encoded data removed]",
      "text/plain": [
       "<Figure size 432x288 with 1 Axes>"
      ]
     },
     "metadata": {
      "needs_background": "light"
     },
     "output_type": "display_data"
    }
   ],
   "source": [
    "'''3.a. Plot the lift as a bar chart.'''\n",
    "plt.bar(segment, df_sorted['Lift'])\n",
    "plt.xlabel('Segment')\n",
    "plt.ylabel('Lift')\n",
    "plt.title('Lift for each Segment')\n",
    "plt.show()"
   ]
  },
  {
   "cell_type": "code",
   "execution_count": 28,
   "id": "31fce3f7",
   "metadata": {},
   "outputs": [
    {
     "data": {
      "image/png": "[encoded data removed]",
      "text/plain": [
       "<Figure size 432x288 with 1 Axes>"
      ]
     },
     "metadata": {
      "needs_background": "light"
     },
     "output_type": "display_data"
    }
   ],
   "source": [
    "'''3.b. Plot the cumulative lift as a line chart.'''\n",
    "plt.plot(segment, df_sorted['Cumulative Lift'], marker='o', linestyle='-')\n",
    "plt.xlabel('Segment')\n",
    "plt.ylabel('Cumulative Lift')\n",
    "plt.title('Cumulative Lift for each Segment')\n",
    "plt.show()"
   ]
  },
  {
   "cell_type": "raw",
   "id": "56d7cefa",
   "metadata": {},
   "source": [
    "'''3.c. Which segments are generating less than expected sales?\n",
    "'''\n",
    "Thet are segments 2,8,6,5,1"
   ]
  },
  {
   "cell_type": "code",
   "execution_count": null,
   "id": "e90d0b0b",
   "metadata": {},
   "outputs": [],
   "source": []
  }
 ],
 "metadata": {
  "kernelspec": {
   "display_name": "Python 3 (ipykernel)",
   "language": "python",
   "name": "python3"
  },
  "language_info": {
   "codemirror_mode": {
    "name": "ipython",
    "version": 3
   },
   "file_extension": ".py",
   "mimetype": "text/x-python",
   "name": "python",
   "nbconvert_exporter": "python",
   "pygments_lexer": "ipython3",
   "version": "3.9.12"
  }
 },
 "nbformat": 4,
 "nbformat_minor": 5
}
