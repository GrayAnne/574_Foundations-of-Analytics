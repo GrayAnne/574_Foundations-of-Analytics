{
 "cells": [
  {
   "cell_type": "raw",
   "id": "c25e1d85",
   "metadata": {},
   "source": [
    "Name: Gray Li\n",
    "ID: 511104"
   ]
  },
  {
   "cell_type": "code",
   "execution_count": 1,
   "id": "43a43e8d",
   "metadata": {},
   "outputs": [],
   "source": [
    "import numpy as np\n",
    "import pandas as pd\n",
    "import matplotlib.pyplot as plt\n",
    "\n",
    "import statistics\n",
    "from scipy.stats import sem"
   ]
  },
  {
   "cell_type": "markdown",
   "id": "6fc2e448",
   "metadata": {},
   "source": [
    "# Section 1: Linear Algebra"
   ]
  },
  {
   "cell_type": "code",
   "execution_count": 2,
   "id": "64adb57d",
   "metadata": {},
   "outputs": [],
   "source": [
    "m1 = np.array([[1, 3, 5],\n",
    "              [4, 12, 8]])\n",
    "m2 = np.array([[1, 5, 9],\n",
    "              [3, 4, 15]])"
   ]
  },
  {
   "cell_type": "raw",
   "id": "08d1530b",
   "metadata": {},
   "source": [
    "1.Add m1 to m2"
   ]
  },
  {
   "cell_type": "code",
   "execution_count": 3,
   "id": "8a92be1c",
   "metadata": {},
   "outputs": [
    {
     "name": "stdout",
     "output_type": "stream",
     "text": [
      "[[ 2  8 14]\n",
      " [ 7 16 23]]\n"
     ]
    }
   ],
   "source": [
    "print(m1+m2)"
   ]
  },
  {
   "cell_type": "raw",
   "id": "811c6941",
   "metadata": {},
   "source": [
    "2.Subtraction: m1 – m2"
   ]
  },
  {
   "cell_type": "code",
   "execution_count": 4,
   "id": "b7163386",
   "metadata": {},
   "outputs": [
    {
     "name": "stdout",
     "output_type": "stream",
     "text": [
      "[[ 0 -2 -4]\n",
      " [ 1  8 -7]]\n"
     ]
    }
   ],
   "source": [
    "print(m1-m2)"
   ]
  },
  {
   "cell_type": "raw",
   "id": "76e5a473",
   "metadata": {},
   "source": [
    "3. Matrix multiplication (you may have to transpose):\n",
    "    a. Multiply m1 x m2\n",
    "    b. Multiply m2 x m1\n",
    "    c. Are the resultant matrices the same? Explain."
   ]
  },
  {
   "cell_type": "code",
   "execution_count": 5,
   "id": "41af5e5a",
   "metadata": {},
   "outputs": [
    {
     "data": {
      "text/plain": [
       "array([[ 1,  4],\n",
       "       [ 3, 12],\n",
       "       [ 5,  8]])"
      ]
     },
     "execution_count": 5,
     "metadata": {},
     "output_type": "execute_result"
    }
   ],
   "source": [
    "m1.T"
   ]
  },
  {
   "cell_type": "code",
   "execution_count": 6,
   "id": "14eea69e",
   "metadata": {},
   "outputs": [
    {
     "name": "stdout",
     "output_type": "stream",
     "text": [
      "m1 x m2 =\n",
      " [[ 61  90]\n",
      " [136 180]]\n",
      "m2 x m1 =\n",
      " [[ 61 136]\n",
      " [ 90 180]]\n"
     ]
    }
   ],
   "source": [
    "#3.a\n",
    "print(\"m1 x m2 =\\n\", m1 @ m2.T)\n",
    "\n",
    "#3.b\n",
    "print(\"m2 x m1 =\\n\", m2 @ m1.T)"
   ]
  },
  {
   "cell_type": "raw",
   "id": "1e27200b",
   "metadata": {},
   "source": [
    "3.c No, but the results are transposed to each other. Because one of the properties of matrix transposition is (AB)^T=B^T * A, i.e (m1^T*m2)^T=m2^T * m1"
   ]
  },
  {
   "cell_type": "raw",
   "id": "73058963",
   "metadata": {},
   "source": [
    "4. Inversion\n",
    "    a. Using numpy append, append the following vector to the bottom of m1,\n",
    "    𝑣1 = [2 6 7]. The resulting matrix should be: 𝑚3 = [1 3 5\n",
    "                                        4 12 8\n",
    "                                        2 6 7]\n",
    "    b. Invert m3. You will get an error message. What does it say?\n",
    "    c. Find the determinant of m3\n",
    "    d. Using numpy append, append the following vector to the bottom of m1,\n",
    "    𝑣2 = [2 0 7]. The resulting matrix should be: 𝑚4 = [1 3 5\n",
    "                                        4 12 8\n",
    "                                        2 0 7].\n",
    "    e. Repeat b & c above. Why can you invert one but not the other?"
   ]
  },
  {
   "cell_type": "code",
   "execution_count": 7,
   "id": "5de41e69",
   "metadata": {},
   "outputs": [
    {
     "name": "stdout",
     "output_type": "stream",
     "text": [
      "[[ 1  3  5]\n",
      " [ 4 12  8]\n",
      " [ 2  6  7]]\n"
     ]
    }
   ],
   "source": [
    "#4.a\n",
    "v1 = np.array([2, 6, 7])\n",
    "m3 = np.vstack((m1, v1))\n",
    "print(m3)"
   ]
  },
  {
   "cell_type": "code",
   "execution_count": 8,
   "id": "6d724c00",
   "metadata": {},
   "outputs": [
    {
     "ename": "LinAlgError",
     "evalue": "Singular matrix",
     "output_type": "error",
     "traceback": [
      "\u001b[1;31m---------------------------------------------------------------------------\u001b[0m",
      "\u001b[1;31mLinAlgError\u001b[0m                               Traceback (most recent call last)",
      "Cell \u001b[1;32mIn[8], line 2\u001b[0m\n\u001b[0;32m      1\u001b[0m \u001b[38;5;66;03m#4.b\u001b[39;00m\n\u001b[1;32m----> 2\u001b[0m inv_m3 \u001b[38;5;241m=\u001b[39m \u001b[43mnp\u001b[49m\u001b[38;5;241;43m.\u001b[39;49m\u001b[43mlinalg\u001b[49m\u001b[38;5;241;43m.\u001b[39;49m\u001b[43minv\u001b[49m\u001b[43m(\u001b[49m\u001b[43mm3\u001b[49m\u001b[43m)\u001b[49m\n",
      "File \u001b[1;32m<__array_function__ internals>:180\u001b[0m, in \u001b[0;36minv\u001b[1;34m(*args, **kwargs)\u001b[0m\n",
      "File \u001b[1;32mD:\\software\\anaconda\\envs\\tensorflow\\lib\\site-packages\\numpy\\linalg\\linalg.py:545\u001b[0m, in \u001b[0;36minv\u001b[1;34m(a)\u001b[0m\n\u001b[0;32m    543\u001b[0m signature \u001b[38;5;241m=\u001b[39m \u001b[38;5;124m'\u001b[39m\u001b[38;5;124mD->D\u001b[39m\u001b[38;5;124m'\u001b[39m \u001b[38;5;28;01mif\u001b[39;00m isComplexType(t) \u001b[38;5;28;01melse\u001b[39;00m \u001b[38;5;124m'\u001b[39m\u001b[38;5;124md->d\u001b[39m\u001b[38;5;124m'\u001b[39m\n\u001b[0;32m    544\u001b[0m extobj \u001b[38;5;241m=\u001b[39m get_linalg_error_extobj(_raise_linalgerror_singular)\n\u001b[1;32m--> 545\u001b[0m ainv \u001b[38;5;241m=\u001b[39m \u001b[43m_umath_linalg\u001b[49m\u001b[38;5;241;43m.\u001b[39;49m\u001b[43minv\u001b[49m\u001b[43m(\u001b[49m\u001b[43ma\u001b[49m\u001b[43m,\u001b[49m\u001b[43m \u001b[49m\u001b[43msignature\u001b[49m\u001b[38;5;241;43m=\u001b[39;49m\u001b[43msignature\u001b[49m\u001b[43m,\u001b[49m\u001b[43m \u001b[49m\u001b[43mextobj\u001b[49m\u001b[38;5;241;43m=\u001b[39;49m\u001b[43mextobj\u001b[49m\u001b[43m)\u001b[49m\n\u001b[0;32m    546\u001b[0m \u001b[38;5;28;01mreturn\u001b[39;00m wrap(ainv\u001b[38;5;241m.\u001b[39mastype(result_t, copy\u001b[38;5;241m=\u001b[39m\u001b[38;5;28;01mFalse\u001b[39;00m))\n",
      "File \u001b[1;32mD:\\software\\anaconda\\envs\\tensorflow\\lib\\site-packages\\numpy\\linalg\\linalg.py:88\u001b[0m, in \u001b[0;36m_raise_linalgerror_singular\u001b[1;34m(err, flag)\u001b[0m\n\u001b[0;32m     87\u001b[0m \u001b[38;5;28;01mdef\u001b[39;00m \u001b[38;5;21m_raise_linalgerror_singular\u001b[39m(err, flag):\n\u001b[1;32m---> 88\u001b[0m     \u001b[38;5;28;01mraise\u001b[39;00m LinAlgError(\u001b[38;5;124m\"\u001b[39m\u001b[38;5;124mSingular matrix\u001b[39m\u001b[38;5;124m\"\u001b[39m)\n",
      "\u001b[1;31mLinAlgError\u001b[0m: Singular matrix"
     ]
    }
   ],
   "source": [
    "#4.b\n",
    "inv_m3 = np.linalg.inv(m3)"
   ]
  },
  {
   "cell_type": "raw",
   "id": "345d72fe",
   "metadata": {},
   "source": [
    "It shows Singular matrix"
   ]
  },
  {
   "cell_type": "code",
   "execution_count": 9,
   "id": "cb2638f7",
   "metadata": {},
   "outputs": [
    {
     "name": "stdout",
     "output_type": "stream",
     "text": [
      "0.0\n"
     ]
    }
   ],
   "source": [
    "#4.c\n",
    "print(np.linalg.det(m3))"
   ]
  },
  {
   "cell_type": "code",
   "execution_count": 10,
   "id": "b750eb7c",
   "metadata": {},
   "outputs": [
    {
     "name": "stdout",
     "output_type": "stream",
     "text": [
      "[[ 1  3  5]\n",
      " [ 4 12  8]\n",
      " [ 2  0  7]]\n"
     ]
    }
   ],
   "source": [
    "#4.d\n",
    "v2 = np.array([2, 0, 7])\n",
    "m4 = np.vstack((m1, v2))\n",
    "print(m4)"
   ]
  },
  {
   "cell_type": "code",
   "execution_count": 11,
   "id": "d5fac5a3",
   "metadata": {},
   "outputs": [
    {
     "name": "stdout",
     "output_type": "stream",
     "text": [
      "Invert m4\n",
      "[[-1.16666667  0.29166667  0.5       ]\n",
      " [ 0.16666667  0.04166667 -0.16666667]\n",
      " [ 0.33333333 -0.08333333  0.        ]]\n",
      "\n",
      "determinant of m4\n",
      "-72.0\n"
     ]
    }
   ],
   "source": [
    "#4.e\n",
    "#Invert m4\n",
    "print(\"Invert m4\")\n",
    "print(np.linalg.inv(m4))\n",
    "print()\n",
    "#determinant of m4\n",
    "print(\"determinant of m4\")\n",
    "print(np.linalg.det(m4))"
   ]
  },
  {
   "cell_type": "raw",
   "id": "a39f290e",
   "metadata": {},
   "source": [
    "Because determinant of m3 =0, which means m3 is noninvertible. While determinant of m4 != 0, which means m4 is invertible."
   ]
  },
  {
   "cell_type": "raw",
   "id": "aed74dae",
   "metadata": {},
   "source": [
    "5. Eigen vectors and values\n",
    "    a. Find the Eigen vectors and values of m4"
   ]
  },
  {
   "cell_type": "code",
   "execution_count": 12,
   "id": "9cf926aa",
   "metadata": {},
   "outputs": [
    {
     "name": "stdout",
     "output_type": "stream",
     "text": [
      "Eigenvalues of m4:\n",
      "[-0.74625347 13.70776234  7.03849113]\n",
      "\n",
      "Eigenvectors of m4:\n",
      "[[-0.95796008  0.25760791  0.01007287]\n",
      " [ 0.14538858  0.96319186 -0.85203586]\n",
      " [ 0.24733507  0.0768089   0.5233865 ]]\n"
     ]
    }
   ],
   "source": [
    "eigenvalues, eigenvectors = np.linalg.eig(m4)\n",
    "print(\"Eigenvalues of m4:\")\n",
    "print(eigenvalues)\n",
    "print()\n",
    "print(\"Eigenvectors of m4:\")\n",
    "print(eigenvectors)"
   ]
  },
  {
   "cell_type": "markdown",
   "id": "4feba261",
   "metadata": {},
   "source": [
    "# Section 2: Probability"
   ]
  },
  {
   "cell_type": "raw",
   "id": "f7bb42bc",
   "metadata": {},
   "source": [
    "1. Generate the following. A reference for how to produce random normal observations can be\n",
    "found here. Use seed(155) to make sure the results are always the same.\n",
    "    a. x1: 40 observations from a random normal distribution with a mean of 15 and standard\n",
    "    deviation of 2\n",
    "    b. x2: 40 observations from a random normal distribution with a mean of 17 and standard\n",
    "    deviation of 1.5\n",
    "    c. Produce histograms of these distributions on the same plot"
   ]
  },
  {
   "cell_type": "code",
   "execution_count": 13,
   "id": "9a933f0c",
   "metadata": {},
   "outputs": [
    {
     "name": "stdout",
     "output_type": "stream",
     "text": [
      "x1:\n",
      " [16.24870132 15.4516735  15.8323795  12.74452692 14.75928155 11.78024246\n",
      " 16.5011245  10.05625202 16.61257638 16.16953378 17.91393643 14.85675736\n",
      " 17.99407921 13.63928186 18.50441828 13.43790139 14.85612245 14.47449605\n",
      " 12.87771137 15.841971   13.15466929 11.70727045 15.86599547 15.33659281\n",
      " 15.00008821 15.9465252  16.9571717  12.74354981 13.05872522 14.93433169\n",
      " 13.57364948 18.71022486 13.70142995 16.0189728  13.09073865 15.4264635\n",
      " 14.69034134 15.15031972 14.71072992 11.78339909]\n",
      "\n",
      "x2:\n",
      " [15.8534539  16.24326381 17.10390516 16.46017097 17.11024761 16.26250262\n",
      " 19.25792777 18.6784501  18.06256019 14.72132204 15.6012901  14.13211301\n",
      " 16.52412488 19.13566119 15.07513291 16.09500118 17.93154259 14.91495494\n",
      " 16.89632933 17.42079406 18.10150728 17.09486117 17.73542397 17.58752949\n",
      " 13.75312653 15.50240458 20.6209742  15.73372685 18.79715282 16.09507257\n",
      " 16.9185618  15.42501092 15.37010389 16.77177456 18.14812076 15.97527985\n",
      " 16.32331439 17.92610193 16.82660575 17.07380772]\n"
     ]
    }
   ],
   "source": [
    "np.random.seed(155)\n",
    "#1.a\n",
    "x1 = np.random.normal(15, 2, 40)\n",
    "print(\"x1:\\n\",x1)\n",
    "print()\n",
    "#1.b\n",
    "x2 = np.random.normal(17, 1.5, 40)\n",
    "print(\"x2:\\n\",x2)"
   ]
  },
  {
   "cell_type": "code",
   "execution_count": 14,
   "id": "fe652767",
   "metadata": {},
   "outputs": [
    {
     "data": {
      "image/png": "[encoded data removed]",
      "text/plain": [
       "<Figure size 640x480 with 1 Axes>"
      ]
     },
     "metadata": {},
     "output_type": "display_data"
    }
   ],
   "source": [
    "plt.hist(x1, bins=10, alpha=0.5, label='x1', color='blue')\n",
    "plt.hist(x2, bins=10, alpha=0.5, label='x2', color='red')\n",
    "plt.xlabel('Value')\n",
    "plt.ylabel('Frequency')\n",
    "plt.legend()\n",
    "plt.show()"
   ]
  },
  {
   "cell_type": "raw",
   "id": "2e3fc6e3",
   "metadata": {},
   "source": [
    "2. Subtract the first set of observations from the second set to get x3. This is equivalent to vector\n",
    "subtraction. Produce a histogram of the differences. What is the distribution of x3?"
   ]
  },
  {
   "cell_type": "code",
   "execution_count": 15,
   "id": "30c70099",
   "metadata": {},
   "outputs": [
    {
     "data": {
      "image/png": "[encoded data removed]",
      "text/plain": [
       "<Figure size 640x480 with 1 Axes>"
      ]
     },
     "metadata": {},
     "output_type": "display_data"
    }
   ],
   "source": [
    "x3 = x2 - x1\n",
    "\n",
    "plt.hist(x3, bins=10, alpha=0.5, label='x3', color='green')\n",
    "plt.xlabel('Value')\n",
    "plt.ylabel('Frequency')\n",
    "plt.legend()\n",
    "plt.show()"
   ]
  },
  {
   "cell_type": "markdown",
   "id": "6429750a",
   "metadata": {},
   "source": [
    "# Section 3: Statistics"
   ]
  },
  {
   "cell_type": "raw",
   "id": "13695570",
   "metadata": {},
   "source": [
    "1. Compute the mean & median for x1 & x3. Compute the mode for x3.\n",
    "    a. The mode values may not be what you would expect. Look at the x3 values and explain what has happened. Hint: Look at the first value in x3.\n",
    "    b. When you round the x3 values to the closest integer using the round() function, what is the new mode?"
   ]
  },
  {
   "cell_type": "code",
   "execution_count": 16,
   "id": "7552b884",
   "metadata": {},
   "outputs": [
    {
     "name": "stdout",
     "output_type": "stream",
     "text": [
      "Mean of x1: 14.802853912665578\n",
      "Median of x1: 14.895544528517114\n",
      "\n",
      "Mean of x3: 1.978676322071194\n",
      "Median of x3 1.992652158933761\n",
      "Mode of x3: -0.39524741677759856\n"
     ]
    }
   ],
   "source": [
    "#1\n",
    "mean_x1 = np.mean(x1)\n",
    "med_x1 = np.median(x1)\n",
    "\n",
    "mean_x3 = np.mean(x3)\n",
    "med_x3 = np.median(x3)\n",
    "\n",
    "mode_x3 = statistics.mode(x3)\n",
    "\n",
    "\n",
    "print(\"Mean of x1:\",(mean_x1))\n",
    "print(\"Median of x1:\",(med_x1))\n",
    "print()\n",
    "print(\"Mean of x3:\",(mean_x3))\n",
    "print(\"Median of x3\",(med_x3))\n",
    "print(\"Mode of x3:\",(mode_x3))"
   ]
  },
  {
   "cell_type": "raw",
   "id": "1db21c38",
   "metadata": {},
   "source": [
    "1.a\n",
    "According the API of statistics.mode, when all value just appear once, it will return the first value of the data. That's why mode of x3 is -0.39524741677759856, since it's the first value in x3"
   ]
  },
  {
   "cell_type": "code",
   "execution_count": 17,
   "id": "eb45921c",
   "metadata": {},
   "outputs": [
    {
     "name": "stdout",
     "output_type": "stream",
     "text": [
      "The new mode : 2.0\n"
     ]
    }
   ],
   "source": [
    "#1.b\n",
    "x3_new = np.round(x3)\n",
    "mode_x3_new = statistics.mode(x3_new)\n",
    "print(\"The new mode :\", mode_x3_new)"
   ]
  },
  {
   "cell_type": "code",
   "execution_count": 18,
   "id": "96032bbf",
   "metadata": {},
   "outputs": [
    {
     "name": "stdout",
     "output_type": "stream",
     "text": [
      "Sample Variance of x1: 3.8009307400859713\n",
      "Sample Standard Deviation of x1: 1.949597584140371\n",
      "Standard Error of x1: 0.30825844433226685\n",
      "\n",
      "Sample Variance of x3: 6.95429882623408\n",
      "Sample Standard Deviation of x3: 2.637100458123293\n",
      "Standard Error of x3: 0.41696219331715434\n"
     ]
    }
   ],
   "source": [
    "#2\n",
    "var_x1 = np.var(x1,ddof=1)\n",
    "std_x1 = np.std(x1,ddof=1)\n",
    "er_x1 = sem(x1)\n",
    "\n",
    "var_x3 = np.var(x3,ddof=1)\n",
    "std_x3 = np.std(x3,ddof=1)\n",
    "er_x3 = sem(x3)\n",
    "\n",
    "print(\"Sample Variance of x1:\", (var_x1))\n",
    "print(\"Sample Standard Deviation of x1:\",(std_x1))\n",
    "print(\"Standard Error of x1:\",(er_x1))\n",
    "print()\n",
    "print(\"Sample Variance of x3:\", (var_x3))\n",
    "print(\"Sample Standard Deviation of x3:\",(std_x3))\n",
    "print(\"Standard Error of x3:\",(er_x3))"
   ]
  },
  {
   "cell_type": "code",
   "execution_count": 19,
   "id": "60b0a5d2",
   "metadata": {},
   "outputs": [
    {
     "name": "stdout",
     "output_type": "stream",
     "text": [
      "range of x1 : 8.653972842075435\n",
      "range of x3 : 12.051483453898415\n"
     ]
    }
   ],
   "source": [
    "#3.a\n",
    "range_x1 = max(x1) - min(x1)\n",
    "range_x3 = max(x3) - min(x3)\n",
    "\n",
    "print(\"range of x1 :\", range_x1)\n",
    "print(\"range of x3 :\", range_x3)"
   ]
  },
  {
   "cell_type": "code",
   "execution_count": 20,
   "id": "b7a79500",
   "metadata": {},
   "outputs": [
    {
     "name": "stdout",
     "output_type": "stream",
     "text": [
      "Q1 of x1 : 13.36709336572737\n",
      "Q2 of x1 : 14.895544528517114\n",
      "Q1 of x3 : 0.5217269812732308\n",
      "Q2 of x3 : 1.992652158933761\n"
     ]
    }
   ],
   "source": [
    "#3.b\n",
    "q1_x1, q2_x1, q3_x1 = np.percentile(x1, [25, 50, 75])  \n",
    "\n",
    "q1_x3, q2_x3, q3_x3 = np.percentile(x3, [25,50, 75])\n",
    "\n",
    "print(\"Q1 of x1 :\", q1_x1)\n",
    "print(\"Q2 of x1 :\", q2_x1)\n",
    "print(\"Q1 of x3 :\", q1_x3)\n",
    "print(\"Q2 of x3 :\", q2_x3)"
   ]
  },
  {
   "cell_type": "code",
   "execution_count": 21,
   "id": "c936dcc3",
   "metadata": {},
   "outputs": [
    {
     "name": "stdout",
     "output_type": "stream",
     "text": [
      "IQR of x1 : 2.5975437371308274\n",
      "IQR of x3 : 3.155035904741118\n"
     ]
    }
   ],
   "source": [
    "#3.c\n",
    "iqr_x1 = q3_x1 - q1_x1  \n",
    "\n",
    "iqr_x3 = q3_x3 - q1_x3\n",
    "\n",
    "print(\"IQR of x1 :\", iqr_x1)\n",
    "print(\"IQR of x3 :\", iqr_x3)"
   ]
  },
  {
   "cell_type": "raw",
   "id": "619e79f3",
   "metadata": {},
   "source": [
    "4.x3 is more variable, because it has higher IQR and variance than x1."
   ]
  }
 ],
 "metadata": {
  "kernelspec": {
   "display_name": "Python 3.9 (tensorflow)",
   "language": "python",
   "name": "tensorflow"
  },
  "language_info": {
   "codemirror_mode": {
    "name": "ipython",
    "version": 3
   },
   "file_extension": ".py",
   "mimetype": "text/x-python",
   "name": "python",
   "nbconvert_exporter": "python",
   "pygments_lexer": "ipython3",
   "version": "3.9.16"
  }
 },
 "nbformat": 4,
 "nbformat_minor": 5
}
