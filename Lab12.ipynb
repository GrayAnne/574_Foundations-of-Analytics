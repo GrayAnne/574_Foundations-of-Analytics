{
 "cells": [
  {
   "cell_type": "raw",
   "id": "c57392bf",
   "metadata": {},
   "source": [
    "Name:Gray Li\n",
    "ID:511104"
   ]
  },
  {
   "cell_type": "code",
   "execution_count": 1,
   "id": "8adff860",
   "metadata": {},
   "outputs": [],
   "source": [
    "import pandas as pd\n",
    "import numpy as np\n",
    "import statsmodels.api as sm\n",
    "from sklearn.model_selection import train_test_split, cross_val_score\n",
    "from sklearn.preprocessing import StandardScaler\n",
    "from sklearn.linear_model import LogisticRegression\n",
    "from sklearn.neural_network import MLPClassifier\n",
    "from sklearn.metrics import confusion_matrix, accuracy_score, precision_score, recall_score"
   ]
  },
  {
   "cell_type": "code",
   "execution_count": 2,
   "id": "d8755dda",
   "metadata": {},
   "outputs": [
    {
     "data": {
      "text/html": [
       "<div>\n",
       "<style scoped>\n",
       "    .dataframe tbody tr th:only-of-type {\n",
       "        vertical-align: middle;\n",
       "    }\n",
       "\n",
       "    .dataframe tbody tr th {\n",
       "        vertical-align: top;\n",
       "    }\n",
       "\n",
       "    .dataframe thead th {\n",
       "        text-align: right;\n",
       "    }\n",
       "</style>\n",
       "<table border=\"1\" class=\"dataframe\">\n",
       "  <thead>\n",
       "    <tr style=\"text-align: right;\">\n",
       "      <th></th>\n",
       "      <th>id</th>\n",
       "      <th>sex</th>\n",
       "      <th>sbp</th>\n",
       "      <th>dbp</th>\n",
       "      <th>scl</th>\n",
       "      <th>age</th>\n",
       "      <th>bmi</th>\n",
       "      <th>month</th>\n",
       "      <th>chdfate</th>\n",
       "      <th>winter</th>\n",
       "      <th>spring</th>\n",
       "      <th>summer</th>\n",
       "      <th>fall</th>\n",
       "      <th>log_bmi</th>\n",
       "    </tr>\n",
       "  </thead>\n",
       "  <tbody>\n",
       "    <tr>\n",
       "      <th>0</th>\n",
       "      <td>2642</td>\n",
       "      <td>1</td>\n",
       "      <td>120</td>\n",
       "      <td>80</td>\n",
       "      <td>267.0</td>\n",
       "      <td>55</td>\n",
       "      <td>25.0</td>\n",
       "      <td>8</td>\n",
       "      <td>1</td>\n",
       "      <td>0</td>\n",
       "      <td>0</td>\n",
       "      <td>1</td>\n",
       "      <td>0</td>\n",
       "      <td>3.218876</td>\n",
       "    </tr>\n",
       "    <tr>\n",
       "      <th>1</th>\n",
       "      <td>4627</td>\n",
       "      <td>1</td>\n",
       "      <td>130</td>\n",
       "      <td>78</td>\n",
       "      <td>192.0</td>\n",
       "      <td>53</td>\n",
       "      <td>28.4</td>\n",
       "      <td>12</td>\n",
       "      <td>1</td>\n",
       "      <td>1</td>\n",
       "      <td>0</td>\n",
       "      <td>0</td>\n",
       "      <td>0</td>\n",
       "      <td>3.346389</td>\n",
       "    </tr>\n",
       "    <tr>\n",
       "      <th>2</th>\n",
       "      <td>2568</td>\n",
       "      <td>1</td>\n",
       "      <td>144</td>\n",
       "      <td>90</td>\n",
       "      <td>207.0</td>\n",
       "      <td>61</td>\n",
       "      <td>25.1</td>\n",
       "      <td>8</td>\n",
       "      <td>1</td>\n",
       "      <td>0</td>\n",
       "      <td>0</td>\n",
       "      <td>1</td>\n",
       "      <td>0</td>\n",
       "      <td>3.222868</td>\n",
       "    </tr>\n",
       "    <tr>\n",
       "      <th>3</th>\n",
       "      <td>4192</td>\n",
       "      <td>1</td>\n",
       "      <td>92</td>\n",
       "      <td>66</td>\n",
       "      <td>231.0</td>\n",
       "      <td>48</td>\n",
       "      <td>26.2</td>\n",
       "      <td>11</td>\n",
       "      <td>1</td>\n",
       "      <td>0</td>\n",
       "      <td>0</td>\n",
       "      <td>0</td>\n",
       "      <td>1</td>\n",
       "      <td>3.265759</td>\n",
       "    </tr>\n",
       "    <tr>\n",
       "      <th>4</th>\n",
       "      <td>3977</td>\n",
       "      <td>1</td>\n",
       "      <td>162</td>\n",
       "      <td>98</td>\n",
       "      <td>271.0</td>\n",
       "      <td>39</td>\n",
       "      <td>28.4</td>\n",
       "      <td>11</td>\n",
       "      <td>1</td>\n",
       "      <td>0</td>\n",
       "      <td>0</td>\n",
       "      <td>0</td>\n",
       "      <td>1</td>\n",
       "      <td>3.346389</td>\n",
       "    </tr>\n",
       "    <tr>\n",
       "      <th>...</th>\n",
       "      <td>...</td>\n",
       "      <td>...</td>\n",
       "      <td>...</td>\n",
       "      <td>...</td>\n",
       "      <td>...</td>\n",
       "      <td>...</td>\n",
       "      <td>...</td>\n",
       "      <td>...</td>\n",
       "      <td>...</td>\n",
       "      <td>...</td>\n",
       "      <td>...</td>\n",
       "      <td>...</td>\n",
       "      <td>...</td>\n",
       "      <td>...</td>\n",
       "    </tr>\n",
       "    <tr>\n",
       "      <th>4690</th>\n",
       "      <td>1805</td>\n",
       "      <td>2</td>\n",
       "      <td>130</td>\n",
       "      <td>84</td>\n",
       "      <td>175.0</td>\n",
       "      <td>35</td>\n",
       "      <td>27.7</td>\n",
       "      <td>4</td>\n",
       "      <td>0</td>\n",
       "      <td>0</td>\n",
       "      <td>1</td>\n",
       "      <td>0</td>\n",
       "      <td>0</td>\n",
       "      <td>3.321432</td>\n",
       "    </tr>\n",
       "    <tr>\n",
       "      <th>4691</th>\n",
       "      <td>1976</td>\n",
       "      <td>2</td>\n",
       "      <td>136</td>\n",
       "      <td>92</td>\n",
       "      <td>197.0</td>\n",
       "      <td>45</td>\n",
       "      <td>23.1</td>\n",
       "      <td>5</td>\n",
       "      <td>0</td>\n",
       "      <td>0</td>\n",
       "      <td>1</td>\n",
       "      <td>0</td>\n",
       "      <td>0</td>\n",
       "      <td>3.139833</td>\n",
       "    </tr>\n",
       "    <tr>\n",
       "      <th>4692</th>\n",
       "      <td>3195</td>\n",
       "      <td>1</td>\n",
       "      <td>130</td>\n",
       "      <td>88</td>\n",
       "      <td>213.0</td>\n",
       "      <td>47</td>\n",
       "      <td>28.4</td>\n",
       "      <td>9</td>\n",
       "      <td>0</td>\n",
       "      <td>0</td>\n",
       "      <td>0</td>\n",
       "      <td>0</td>\n",
       "      <td>1</td>\n",
       "      <td>3.346389</td>\n",
       "    </tr>\n",
       "    <tr>\n",
       "      <th>4693</th>\n",
       "      <td>1674</td>\n",
       "      <td>2</td>\n",
       "      <td>112</td>\n",
       "      <td>68</td>\n",
       "      <td>252.0</td>\n",
       "      <td>40</td>\n",
       "      <td>22.0</td>\n",
       "      <td>4</td>\n",
       "      <td>0</td>\n",
       "      <td>0</td>\n",
       "      <td>1</td>\n",
       "      <td>0</td>\n",
       "      <td>0</td>\n",
       "      <td>3.091042</td>\n",
       "    </tr>\n",
       "    <tr>\n",
       "      <th>4694</th>\n",
       "      <td>4526</td>\n",
       "      <td>1</td>\n",
       "      <td>112</td>\n",
       "      <td>76</td>\n",
       "      <td>177.0</td>\n",
       "      <td>40</td>\n",
       "      <td>23.5</td>\n",
       "      <td>12</td>\n",
       "      <td>0</td>\n",
       "      <td>1</td>\n",
       "      <td>0</td>\n",
       "      <td>0</td>\n",
       "      <td>0</td>\n",
       "      <td>3.157000</td>\n",
       "    </tr>\n",
       "  </tbody>\n",
       "</table>\n",
       "<p>4654 rows × 14 columns</p>\n",
       "</div>"
      ],
      "text/plain": [
       "        id  sex  sbp  dbp    scl  age   bmi  month  chdfate  winter  spring  \\\n",
       "0     2642    1  120   80  267.0   55  25.0      8        1       0       0   \n",
       "1     4627    1  130   78  192.0   53  28.4     12        1       1       0   \n",
       "2     2568    1  144   90  207.0   61  25.1      8        1       0       0   \n",
       "3     4192    1   92   66  231.0   48  26.2     11        1       0       0   \n",
       "4     3977    1  162   98  271.0   39  28.4     11        1       0       0   \n",
       "...    ...  ...  ...  ...    ...  ...   ...    ...      ...     ...     ...   \n",
       "4690  1805    2  130   84  175.0   35  27.7      4        0       0       1   \n",
       "4691  1976    2  136   92  197.0   45  23.1      5        0       0       1   \n",
       "4692  3195    1  130   88  213.0   47  28.4      9        0       0       0   \n",
       "4693  1674    2  112   68  252.0   40  22.0      4        0       0       1   \n",
       "4694  4526    1  112   76  177.0   40  23.5     12        0       1       0   \n",
       "\n",
       "      summer  fall   log_bmi  \n",
       "0          1     0  3.218876  \n",
       "1          0     0  3.346389  \n",
       "2          1     0  3.222868  \n",
       "3          0     1  3.265759  \n",
       "4          0     1  3.346389  \n",
       "...      ...   ...       ...  \n",
       "4690       0     0  3.321432  \n",
       "4691       0     0  3.139833  \n",
       "4692       0     1  3.346389  \n",
       "4693       0     0  3.091042  \n",
       "4694       0     0  3.157000  \n",
       "\n",
       "[4654 rows x 14 columns]"
      ]
     },
     "metadata": {},
     "output_type": "display_data"
    }
   ],
   "source": [
    "'''\n",
    "1. Import the data and make the same changes to the data you made in exercise 5 (solutions are \n",
    "posted to Canvas for exercise 5)\n",
    "'''\n",
    "df = pd.read_excel('framingham_dataset_mod.xlsx')\n",
    "df = df.dropna()\n",
    "\n",
    "df['winter'] = np.where((df.month == 12) | (df.month < 3), 1, 0)\n",
    "df['spring'] = np.where((df.month > 3) & (df.month < 6), 1, 0)\n",
    "df['summer'] = np.where((df.month > 5) & (df.month < 9), 1, 0)\n",
    "df['fall'] = np.where((df.month > 8) & (df.month < 12), 1, 0)\n",
    "\n",
    "df['log_bmi'] = np.log(df.bmi)\n",
    "\n",
    "\n",
    "display(df)"
   ]
  },
  {
   "cell_type": "code",
   "execution_count": 3,
   "id": "1c0c8e26",
   "metadata": {},
   "outputs": [],
   "source": [
    "'''2. Split the data into a training test split. Use an 80% training and 20% test set split'''\n",
    "y = df['chdfate']\n",
    "Xn = sm.add_constant(df[['sex', 'dbp', 'scl', 'age', 'log_bmi', 'spring', 'summer', 'fall']])\n",
    "X_train, X_test, y_train, y_test = train_test_split(Xn, y, test_size=0.2, random_state=1)"
   ]
  },
  {
   "cell_type": "code",
   "execution_count": 4,
   "id": "3c0d18e7",
   "metadata": {},
   "outputs": [],
   "source": [
    "'''3. Scale the predictor variables'''\n",
    "\n",
    "scaler = StandardScaler()\n",
    "X_train_scaled = scaler.fit_transform(X_train)\n",
    "X_test_scaled = scaler.transform(X_test)"
   ]
  },
  {
   "cell_type": "code",
   "execution_count": 5,
   "id": "9704069f",
   "metadata": {},
   "outputs": [
    {
     "data": {
      "text/plain": [
       "LogisticRegression(random_state=0)"
      ]
     },
     "execution_count": 5,
     "metadata": {},
     "output_type": "execute_result"
    }
   ],
   "source": [
    "'''4. Fit a logistic regression model on the training data using all the relevant predictor variables \n",
    "(Note: use season, not month. Also, ID is not a predictor variable. Do not use it). Use sklearn. This \n",
    "reference will be helpful'''\n",
    "\n",
    "logreg_model = LogisticRegression(random_state=0)\n",
    "logreg_model.fit(X_train_scaled, y_train)"
   ]
  },
  {
   "cell_type": "code",
   "execution_count": 6,
   "id": "50aa3fba",
   "metadata": {},
   "outputs": [
    {
     "name": "stdout",
     "output_type": "stream",
     "text": [
      "Confusion Matrix : \n",
      " [[598  43]\n",
      " [247  43]]\n",
      "Accuracy: 0.6885069817400644\n",
      "Precision: 0.5\n",
      "Recall: 0.1482758620689655\n"
     ]
    }
   ],
   "source": [
    "'''5. Using the test data, generate a confusion matrix and evaluate the logistic regression model\n",
    "a. Accuracy\n",
    "b. Precision\n",
    "c. Recall\n",
    "'''\n",
    "y_pred_logreg = logreg_model.predict(X_test_scaled)\n",
    "conf_matrix_logreg = confusion_matrix(y_test, y_pred_logreg)\n",
    "print (\"Confusion Matrix : \\n\", conf_matrix_logreg)\n",
    "\n",
    "accuracy_logreg = accuracy_score(y_test, y_pred_logreg)\n",
    "precision_logreg = precision_score(y_test, y_pred_logreg)\n",
    "recall_logreg = recall_score(y_test, y_pred_logreg)\n",
    "print(\"Accuracy:\", accuracy_logreg)\n",
    "print(\"Precision:\", precision_logreg)\n",
    "print(\"Recall:\", recall_logreg)"
   ]
  },
  {
   "cell_type": "code",
   "execution_count": 7,
   "id": "25f0ed68",
   "metadata": {},
   "outputs": [
    {
     "name": "stderr",
     "output_type": "stream",
     "text": [
      "D:\\software\\anaconda\\lib\\site-packages\\sklearn\\neural_network\\_multilayer_perceptron.py:692: ConvergenceWarning: Stochastic Optimizer: Maximum iterations (200) reached and the optimization hasn't converged yet.\n",
      "  warnings.warn(\n"
     ]
    },
    {
     "data": {
      "text/plain": [
       "MLPClassifier(random_state=0)"
      ]
     },
     "execution_count": 7,
     "metadata": {},
     "output_type": "execute_result"
    }
   ],
   "source": [
    "'''6. Fit a neural net classifier model using the defaults'''\n",
    "nn_default_model = MLPClassifier(random_state=0)\n",
    "nn_default_model.fit(X_train_scaled, y_train)"
   ]
  },
  {
   "cell_type": "code",
   "execution_count": 8,
   "id": "512d1fb7",
   "metadata": {},
   "outputs": [
    {
     "name": "stdout",
     "output_type": "stream",
     "text": [
      "Confusion Matrix : \n",
      " [[599  42]\n",
      " [234  56]]\n",
      "Accuracy: 0.7035445757250268\n",
      "Precision: 0.5714285714285714\n",
      "Recall: 0.19310344827586207\n"
     ]
    }
   ],
   "source": [
    "'''7. Generate a confusion matrix and evaluate the neural net model\n",
    "a. Accuracy\n",
    "b. Precision\n",
    "c. Recall'''\n",
    "y_pred_nn_default = nn_default_model.predict(X_test_scaled)\n",
    "conf_matrix_nn_default = confusion_matrix(y_test, y_pred_nn_default)\n",
    "print (\"Confusion Matrix : \\n\", conf_matrix_nn_default)\n",
    "\n",
    "accuracy_nn_default = accuracy_score(y_test, y_pred_nn_default)\n",
    "precision_nn_default = precision_score(y_test, y_pred_nn_default)\n",
    "recall_nn_default = recall_score(y_test, y_pred_nn_default)\n",
    "print(\"Accuracy:\", accuracy_nn_default)\n",
    "print(\"Precision:\", precision_nn_default)\n",
    "print(\"Recall:\", recall_nn_default)"
   ]
  },
  {
   "cell_type": "code",
   "execution_count": 15,
   "id": "6fa42ef3",
   "metadata": {},
   "outputs": [
    {
     "name": "stderr",
     "output_type": "stream",
     "text": [
      "D:\\software\\anaconda\\lib\\site-packages\\sklearn\\neural_network\\_multilayer_perceptron.py:692: ConvergenceWarning: Stochastic Optimizer: Maximum iterations (200) reached and the optimization hasn't converged yet.\n",
      "  warnings.warn(\n"
     ]
    },
    {
     "data": {
      "text/plain": [
       "MLPClassifier(hidden_layer_sizes=(24, 24), random_state=0)"
      ]
     },
     "execution_count": 15,
     "metadata": {},
     "output_type": "execute_result"
    }
   ],
   "source": [
    "'''8. Fit a neural net classifier model using 24 neurons and 2 hidden layers'''\n",
    "nn_custom_model = MLPClassifier(hidden_layer_sizes=(24, 24), random_state=0)\n",
    "nn_custom_model.fit(X_train_scaled, y_train)"
   ]
  },
  {
   "cell_type": "code",
   "execution_count": 16,
   "id": "e0a96e58",
   "metadata": {},
   "outputs": [
    {
     "name": "stdout",
     "output_type": "stream",
     "text": [
      "Confusion Matrix : \n",
      " [[575  66]\n",
      " [218  72]]\n",
      "Accuracy: 0.6949516648764769\n",
      "Precision: 0.5217391304347826\n",
      "Recall: 0.2482758620689655\n"
     ]
    }
   ],
   "source": [
    "'''9. Generate a confusion matrix and evaluate the new neural net model\n",
    "a. Accuracy\n",
    "b. Precision\n",
    "c. Recall'''\n",
    "y_pred_nn_custom = nn_custom_model.predict(X_test_scaled)\n",
    "conf_matrix_nn_custom = confusion_matrix(y_test, y_pred_nn_custom)\n",
    "print (\"Confusion Matrix : \\n\", conf_matrix_nn_custom)\n",
    "\n",
    "accuracy_nn_custom = accuracy_score(y_test, y_pred_nn_custom)\n",
    "precision_nn_custom = precision_score(y_test, y_pred_nn_custom)\n",
    "recall_nn_custom = recall_score(y_test, y_pred_nn_custom)\n",
    "print(\"Accuracy:\", accuracy_nn_custom)\n",
    "print(\"Precision:\", precision_nn_custom)\n",
    "print(\"Recall:\", recall_nn_custom)"
   ]
  },
  {
   "cell_type": "code",
   "execution_count": 11,
   "id": "d953be51",
   "metadata": {},
   "outputs": [
    {
     "data": {
      "text/html": [
       "<div>\n",
       "<style scoped>\n",
       "    .dataframe tbody tr th:only-of-type {\n",
       "        vertical-align: middle;\n",
       "    }\n",
       "\n",
       "    .dataframe tbody tr th {\n",
       "        vertical-align: top;\n",
       "    }\n",
       "\n",
       "    .dataframe thead th {\n",
       "        text-align: right;\n",
       "    }\n",
       "</style>\n",
       "<table border=\"1\" class=\"dataframe\">\n",
       "  <thead>\n",
       "    <tr style=\"text-align: right;\">\n",
       "      <th></th>\n",
       "      <th>Accuracy</th>\n",
       "      <th>Precision</th>\n",
       "      <th>Recall</th>\n",
       "    </tr>\n",
       "  </thead>\n",
       "  <tbody>\n",
       "    <tr>\n",
       "      <th>Logistic</th>\n",
       "      <td>0.688507</td>\n",
       "      <td>0.500000</td>\n",
       "      <td>0.148276</td>\n",
       "    </tr>\n",
       "    <tr>\n",
       "      <th>Neural Net (default)</th>\n",
       "      <td>0.703545</td>\n",
       "      <td>0.571429</td>\n",
       "      <td>0.193103</td>\n",
       "    </tr>\n",
       "    <tr>\n",
       "      <th>Nerual Net (24  neuron)</th>\n",
       "      <td>0.694952</td>\n",
       "      <td>0.521739</td>\n",
       "      <td>0.248276</td>\n",
       "    </tr>\n",
       "  </tbody>\n",
       "</table>\n",
       "</div>"
      ],
      "text/plain": [
       "                         Accuracy  Precision    Recall\n",
       "Logistic                 0.688507   0.500000  0.148276\n",
       "Neural Net (default)     0.703545   0.571429  0.193103\n",
       "Nerual Net (24  neuron)  0.694952   0.521739  0.248276"
      ]
     },
     "execution_count": 11,
     "metadata": {},
     "output_type": "execute_result"
    }
   ],
   "source": [
    "'''10. Compare performance of all 3 model'''\n",
    "results = pd.DataFrame({'Accuracy': [accuracy_logreg, accuracy_nn_default, accuracy_nn_custom], 'Precision': [precision_logreg,precision_nn_default,precision_nn_custom], 'Recall': [recall_logreg,recall_nn_default,recall_nn_custom]}, index = ['Logistic', 'Neural Net (default)', 'Nerual Net (24  neuron)'])\n",
    "results"
   ]
  },
  {
   "cell_type": "code",
   "execution_count": null,
   "id": "41d4d690",
   "metadata": {},
   "outputs": [],
   "source": []
  }
 ],
 "metadata": {
  "kernelspec": {
   "display_name": "Python 3 (ipykernel)",
   "language": "python",
   "name": "python3"
  },
  "language_info": {
   "codemirror_mode": {
    "name": "ipython",
    "version": 3
   },
   "file_extension": ".py",
   "mimetype": "text/x-python",
   "name": "python",
   "nbconvert_exporter": "python",
   "pygments_lexer": "ipython3",
   "version": "3.9.12"
  }
 },
 "nbformat": 4,
 "nbformat_minor": 5
}
