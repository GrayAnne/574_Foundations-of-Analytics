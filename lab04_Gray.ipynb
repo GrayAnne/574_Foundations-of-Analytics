{
 "cells": [
  {
   "cell_type": "raw",
   "id": "0d1607b7",
   "metadata": {},
   "source": [
    "Name: Gray Li\n",
    "ID: 511104"
   ]
  },
  {
   "cell_type": "code",
   "execution_count": 1,
   "id": "07b4f39a",
   "metadata": {},
   "outputs": [],
   "source": [
    "import pandas as pd\n",
    "import matplotlib.pyplot as plt\n",
    "from scipy.stats import f_oneway, levene, ttest_ind, chi2_contingency\n",
    "from statsmodels.stats.multicomp import pairwise_tukeyhsd\n",
    "import statsmodels.api as sm\n",
    "import numpy as np"
   ]
  },
  {
   "cell_type": "code",
   "execution_count": 2,
   "id": "09dce31d",
   "metadata": {},
   "outputs": [],
   "source": [
    "'''\n",
    "1.1 Read the males_ht_wt_cntry.csv file into a data fram\n",
    "'''\n",
    "df = pd.read_csv('males_ht_wt_cntry.csv')"
   ]
  },
  {
   "cell_type": "code",
   "execution_count": 3,
   "id": "09a7d91e",
   "metadata": {},
   "outputs": [
    {
     "name": "stdout",
     "output_type": "stream",
     "text": [
      "   Height  Weight Country\n",
      "0    64.0   144.0   Italy\n",
      "1    68.0   150.0   Italy\n",
      "2    66.0   147.0   Italy\n",
      "3    71.0   170.0   Italy\n",
      "4    65.0   163.0   Italy\n"
     ]
    }
   ],
   "source": [
    "'''\n",
    "1.2. Examine the data\n",
    "a. Display some rows to make sure it imported correctly\n",
    "b. Generate histograms of the heights by country\n",
    "c. Generate histograms of the weights by country\n",
    "\n",
    "'''\n",
    "'''\n",
    "1.2.a. Display some rows to make sure it imported correctly\n",
    "'''\n",
    "print(df.head())"
   ]
  },
  {
   "cell_type": "code",
   "execution_count": 4,
   "id": "ec222b18",
   "metadata": {},
   "outputs": [
    {
     "data": {
      "image/png": "[encoded data removed]",
      "text/plain": [
       "<Figure size 432x288 with 1 Axes>"
      ]
     },
     "metadata": {
      "needs_background": "light"
     },
     "output_type": "display_data"
    }
   ],
   "source": [
    "'''\n",
    "1.2.b. Generate histograms of the heights by country\n",
    "'''\n",
    "df.groupby('Country')['Height'].plot(kind='hist', legend=True)\n",
    "plt.xlabel('Height (cm)')\n",
    "plt.title('Height Distribution by Country')\n",
    "plt.show()"
   ]
  },
  {
   "cell_type": "code",
   "execution_count": 5,
   "id": "56886015",
   "metadata": {},
   "outputs": [
    {
     "data": {
      "image/png": "[encoded data removed]",
      "text/plain": [
       "<Figure size 432x288 with 1 Axes>"
      ]
     },
     "metadata": {
      "needs_background": "light"
     },
     "output_type": "display_data"
    }
   ],
   "source": [
    "'''\n",
    "1.2.c. Generate histograms of the weights by country\n",
    "'''\n",
    "df.groupby('Country')['Weight'].plot(kind='hist', legend=True)\n",
    "plt.xlabel('Height (cm)')\n",
    "plt.title('Height Distribution by Country')\n",
    "plt.show()"
   ]
  },
  {
   "cell_type": "code",
   "execution_count": 6,
   "id": "190f9b89",
   "metadata": {},
   "outputs": [
    {
     "name": "stdout",
     "output_type": "stream",
     "text": [
      "Levene's test p-value: 0.07218180380373036\n",
      "ANOVA p-value: 1.9503368513081563e-25\n"
     ]
    }
   ],
   "source": [
    "'''\n",
    "1.3 Conduct an ANOVA test to determine if the weights differ by nationality and interpret your \n",
    "results. Use this link as a reference. Make sure you use Levene’s test to check if the variance is \n",
    "close to equal.\n",
    "\n",
    "'''\n",
    "groups = [df[df['Country'] == country]['Weight'] for country in df['Country'].unique()]\n",
    "levene_test = levene(*groups)\n",
    "print(f'Levene\\'s test p-value: {levene_test.pvalue}')\n",
    "\n",
    "# Perform ANOVA test\n",
    "anova_result = f_oneway(*groups)\n",
    "print(f'ANOVA p-value: {anova_result.pvalue}')"
   ]
  },
  {
   "cell_type": "raw",
   "id": "e14da259",
   "metadata": {},
   "source": [
    "Assume significance level is 0,05, since Levene's test p-value > 0.05, the variance is close to equal.While ANOVA p-value <<0.05, it means  there is a statistically significant difference in weights among the different nationality."
   ]
  },
  {
   "cell_type": "code",
   "execution_count": 7,
   "id": "71101249",
   "metadata": {},
   "outputs": [
    {
     "name": "stdout",
     "output_type": "stream",
     "text": [
      "Italian vs. Dutch t-test p-value: 2.6541621479997745e-21\n"
     ]
    }
   ],
   "source": [
    "'''\n",
    "1.4.a. Conduct a test to determine if the weights of the Italian males were significantly \n",
    "different than the Dutch males (from the Netherlands) and interpret your results\n",
    "'''\n",
    "italian_weights = df[df['Country'] == 'Italy']['Weight']\n",
    "dutch_weights = df[df['Country'] == 'Netherlands']['Weight']\n",
    "t_stat, t_pvalue = ttest_ind(italian_weights, dutch_weights, equal_var=True)\n",
    "print(f'Italian vs. Dutch t-test p-value: {t_pvalue}')\n"
   ]
  },
  {
   "cell_type": "raw",
   "id": "113f68ed",
   "metadata": {},
   "source": [
    "Because p-value < 0.05,the weights of the Italian males were significantly different than the Dutch males "
   ]
  },
  {
   "cell_type": "code",
   "execution_count": 8,
   "id": "15ca7cae",
   "metadata": {},
   "outputs": [
    {
     "name": "stdout",
     "output_type": "stream",
     "text": [
      "American vs. Dutch t-test p-value: 0.6954875719362548\n"
     ]
    }
   ],
   "source": [
    "'''\n",
    "1.4.b. Conduct a test to determine if the weights of the American males were significantly \n",
    "different than the Dutch males (from the Netherlands) and interpret your results\n",
    "'''\n",
    "american_weights = df[df['Country'] == 'USA']['Weight']\n",
    "t_stat, t_pvalue = ttest_ind(american_weights, dutch_weights, equal_var=True)\n",
    "print(f'American vs. Dutch t-test p-value: {t_pvalue}')"
   ]
  },
  {
   "cell_type": "raw",
   "id": "4c55c660",
   "metadata": {},
   "source": [
    "Because p-value > 0.05,We do not have sufficient evidence to say that the weights of the American males were significantly \n",
    "different than the Dutch males"
   ]
  },
  {
   "cell_type": "code",
   "execution_count": 19,
   "id": "68bc0f27",
   "metadata": {},
   "outputs": [
    {
     "name": "stdout",
     "output_type": "stream",
     "text": [
      "Probability of at least one false positive: 0.1426250000000001\n"
     ]
    }
   ],
   "source": [
    "'''\n",
    "1.5 Conducting multiple tests like this increases the odds of getting false significant results. If you \n",
    "had conducted tests for 3 comparisons (Italian vs Dutch, Italian vs American, American vs \n",
    "Dutch), what is the probability one of these t-tests is not actually significant (i.e. false positive)?\n",
    "'''\n",
    "alpha = 0.05\n",
    "probability_false_positive = 1 - (1 - alpha) ** 3\n",
    "print(f'Probability of at least one false positive: {probability_false_positive}')"
   ]
  },
  {
   "cell_type": "code",
   "execution_count": 10,
   "id": "378bf815",
   "metadata": {},
   "outputs": [
    {
     "name": "stdout",
     "output_type": "stream",
     "text": [
      "     Multiple Comparison of Means - Tukey HSD, FWER=0.05      \n",
      "==============================================================\n",
      "   group1      group2   meandiff p-adj   lower   upper  reject\n",
      "--------------------------------------------------------------\n",
      "      Italy Netherlands  19.2839   -0.0 14.8586 23.7093   True\n",
      "      Italy         USA  20.0048   -0.0 15.6957 24.3138   True\n",
      "Netherlands         USA   0.7208 0.9119  -3.434  4.8757  False\n",
      "--------------------------------------------------------------\n"
     ]
    }
   ],
   "source": [
    "'''\n",
    "1.6. When comparing these groups, it’s better to control the FWER. Use a multiple comparison \n",
    "procedure with a Tukey adjustment. See this link for how to do this in Python using the \n",
    "pairwise_tukeyhsd() function\n",
    "'''\n",
    "tukey_result = pairwise_tukeyhsd(df['Weight'], df['Country'], alpha=0.05)\n",
    "print(tukey_result.summary())"
   ]
  },
  {
   "cell_type": "raw",
   "id": "80e60138",
   "metadata": {},
   "source": [
    "Perform Tukey's HSD test for multiple comparisons with FWER control, assume significance level as 0.05. \n",
    "Because p-adj of Italy and USA, There is a significant difference in weight between American males and Italian males.\n",
    "Because p-adj of Italy and Netherlands, There is a significant difference in weight between American males and Dutch males.\n",
    "Because p-adj of USA and Netherlands, There is a significant difference in weight between American males and Dutch males."
   ]
  },
  {
   "cell_type": "code",
   "execution_count": 11,
   "id": "46cf9727",
   "metadata": {},
   "outputs": [
    {
     "data": {
      "text/html": [
       "<div>\n",
       "<style scoped>\n",
       "    .dataframe tbody tr th:only-of-type {\n",
       "        vertical-align: middle;\n",
       "    }\n",
       "\n",
       "    .dataframe tbody tr th {\n",
       "        vertical-align: top;\n",
       "    }\n",
       "\n",
       "    .dataframe thead th {\n",
       "        text-align: right;\n",
       "    }\n",
       "</style>\n",
       "<table border=\"1\" class=\"dataframe\">\n",
       "  <thead>\n",
       "    <tr style=\"text-align: right;\">\n",
       "      <th></th>\n",
       "      <th>Height</th>\n",
       "      <th>Weight</th>\n",
       "      <th>Country</th>\n",
       "      <th>BMI</th>\n",
       "    </tr>\n",
       "  </thead>\n",
       "  <tbody>\n",
       "    <tr>\n",
       "      <th>0</th>\n",
       "      <td>64.0</td>\n",
       "      <td>144.0</td>\n",
       "      <td>Italy</td>\n",
       "      <td>24.714844</td>\n",
       "    </tr>\n",
       "    <tr>\n",
       "      <th>1</th>\n",
       "      <td>68.0</td>\n",
       "      <td>150.0</td>\n",
       "      <td>Italy</td>\n",
       "      <td>22.804931</td>\n",
       "    </tr>\n",
       "    <tr>\n",
       "      <th>2</th>\n",
       "      <td>66.0</td>\n",
       "      <td>147.0</td>\n",
       "      <td>Italy</td>\n",
       "      <td>23.723829</td>\n",
       "    </tr>\n",
       "    <tr>\n",
       "      <th>3</th>\n",
       "      <td>71.0</td>\n",
       "      <td>170.0</td>\n",
       "      <td>Italy</td>\n",
       "      <td>23.707598</td>\n",
       "    </tr>\n",
       "    <tr>\n",
       "      <th>4</th>\n",
       "      <td>65.0</td>\n",
       "      <td>163.0</td>\n",
       "      <td>Italy</td>\n",
       "      <td>27.121657</td>\n",
       "    </tr>\n",
       "  </tbody>\n",
       "</table>\n",
       "</div>"
      ],
      "text/plain": [
       "   Height  Weight Country        BMI\n",
       "0    64.0   144.0   Italy  24.714844\n",
       "1    68.0   150.0   Italy  22.804931\n",
       "2    66.0   147.0   Italy  23.723829\n",
       "3    71.0   170.0   Italy  23.707598\n",
       "4    65.0   163.0   Italy  27.121657"
      ]
     },
     "execution_count": 11,
     "metadata": {},
     "output_type": "execute_result"
    }
   ],
   "source": [
    "'''\n",
    "2.1 Create a new BMI column. Use the Imperial formula 𝐵𝑀𝐼 =𝑊𝑒𝑖𝑔ℎ𝑡∗703/Height**2\n",
    " '''\n",
    "df['BMI'] = (df['Weight'] * 703) / (df['Height'] ** 2)\n",
    "df.head()"
   ]
  },
  {
   "cell_type": "code",
   "execution_count": 12,
   "id": "6bddf37d",
   "metadata": {},
   "outputs": [
    {
     "data": {
      "text/html": [
       "<div>\n",
       "<style scoped>\n",
       "    .dataframe tbody tr th:only-of-type {\n",
       "        vertical-align: middle;\n",
       "    }\n",
       "\n",
       "    .dataframe tbody tr th {\n",
       "        vertical-align: top;\n",
       "    }\n",
       "\n",
       "    .dataframe thead th {\n",
       "        text-align: right;\n",
       "    }\n",
       "</style>\n",
       "<table border=\"1\" class=\"dataframe\">\n",
       "  <thead>\n",
       "    <tr style=\"text-align: right;\">\n",
       "      <th></th>\n",
       "      <th>Height</th>\n",
       "      <th>Weight</th>\n",
       "      <th>Country</th>\n",
       "      <th>BMI</th>\n",
       "      <th>Overweight</th>\n",
       "    </tr>\n",
       "  </thead>\n",
       "  <tbody>\n",
       "    <tr>\n",
       "      <th>0</th>\n",
       "      <td>64.0</td>\n",
       "      <td>144.0</td>\n",
       "      <td>Italy</td>\n",
       "      <td>24.714844</td>\n",
       "      <td>0</td>\n",
       "    </tr>\n",
       "    <tr>\n",
       "      <th>1</th>\n",
       "      <td>68.0</td>\n",
       "      <td>150.0</td>\n",
       "      <td>Italy</td>\n",
       "      <td>22.804931</td>\n",
       "      <td>0</td>\n",
       "    </tr>\n",
       "    <tr>\n",
       "      <th>2</th>\n",
       "      <td>66.0</td>\n",
       "      <td>147.0</td>\n",
       "      <td>Italy</td>\n",
       "      <td>23.723829</td>\n",
       "      <td>0</td>\n",
       "    </tr>\n",
       "    <tr>\n",
       "      <th>3</th>\n",
       "      <td>71.0</td>\n",
       "      <td>170.0</td>\n",
       "      <td>Italy</td>\n",
       "      <td>23.707598</td>\n",
       "      <td>0</td>\n",
       "    </tr>\n",
       "    <tr>\n",
       "      <th>4</th>\n",
       "      <td>65.0</td>\n",
       "      <td>163.0</td>\n",
       "      <td>Italy</td>\n",
       "      <td>27.121657</td>\n",
       "      <td>1</td>\n",
       "    </tr>\n",
       "  </tbody>\n",
       "</table>\n",
       "</div>"
      ],
      "text/plain": [
       "   Height  Weight Country        BMI  Overweight\n",
       "0    64.0   144.0   Italy  24.714844           0\n",
       "1    68.0   150.0   Italy  22.804931           0\n",
       "2    66.0   147.0   Italy  23.723829           0\n",
       "3    71.0   170.0   Italy  23.707598           0\n",
       "4    65.0   163.0   Italy  27.121657           1"
      ]
     },
     "execution_count": 12,
     "metadata": {},
     "output_type": "execute_result"
    }
   ],
   "source": [
    "'''\n",
    "2.2 Create another new column ‘Overweight’ that is a 1 if BMI >= 25 and 0 otherwise. There are \n",
    "several ways to do this in Python. \n",
    "'''\n",
    "df['Overweight'] = (df['BMI'] >= 25).astype(int)\n",
    "df.head()"
   ]
  },
  {
   "cell_type": "code",
   "execution_count": 13,
   "id": "9c4126d9",
   "metadata": {},
   "outputs": [
    {
     "data": {
      "text/html": [
       "<div>\n",
       "<style scoped>\n",
       "    .dataframe tbody tr th:only-of-type {\n",
       "        vertical-align: middle;\n",
       "    }\n",
       "\n",
       "    .dataframe tbody tr th {\n",
       "        vertical-align: top;\n",
       "    }\n",
       "\n",
       "    .dataframe thead th {\n",
       "        text-align: right;\n",
       "    }\n",
       "</style>\n",
       "<table border=\"1\" class=\"dataframe\">\n",
       "  <thead>\n",
       "    <tr style=\"text-align: right;\">\n",
       "      <th>Overweight</th>\n",
       "      <th>0</th>\n",
       "      <th>1</th>\n",
       "    </tr>\n",
       "    <tr>\n",
       "      <th>Country</th>\n",
       "      <th></th>\n",
       "      <th></th>\n",
       "    </tr>\n",
       "  </thead>\n",
       "  <tbody>\n",
       "    <tr>\n",
       "      <th>Italy</th>\n",
       "      <td>54</td>\n",
       "      <td>16</td>\n",
       "    </tr>\n",
       "    <tr>\n",
       "      <th>Netherlands</th>\n",
       "      <td>48</td>\n",
       "      <td>32</td>\n",
       "    </tr>\n",
       "    <tr>\n",
       "      <th>USA</th>\n",
       "      <td>38</td>\n",
       "      <td>52</td>\n",
       "    </tr>\n",
       "  </tbody>\n",
       "</table>\n",
       "</div>"
      ],
      "text/plain": [
       "Overweight    0   1\n",
       "Country            \n",
       "Italy        54  16\n",
       "Netherlands  48  32\n",
       "USA          38  52"
      ]
     },
     "execution_count": 13,
     "metadata": {},
     "output_type": "execute_result"
    }
   ],
   "source": [
    "'''\n",
    "2.3. Create a contingency table of overweight by nationality and examine it. Describe any differences you see between nationalities\n",
    "'''\n",
    "Overweight_df = pd.crosstab(df['Country'], df['Overweight'])\n",
    "Overweight_df"
   ]
  },
  {
   "cell_type": "raw",
   "id": "8a02f954",
   "metadata": {},
   "source": [
    "On the ratio of overweight individuals in the sample, the USA has the highest proportion(58%), followed by the Netherlands(40%) and Italy(23%)."
   ]
  },
  {
   "cell_type": "code",
   "execution_count": 14,
   "id": "e4c08b32",
   "metadata": {},
   "outputs": [
    {
     "name": "stdout",
     "output_type": "stream",
     "text": [
      "\n",
      "Chi-Square Test:\n",
      "Chi-Square Statistic: 19.89224489795918\n",
      "P-value: 4.7913059538762396e-05\n"
     ]
    }
   ],
   "source": [
    "'''\n",
    "2.4. Conduct a Chi-Sq test using scipy.stats to see if the differences are significant. Explain your findings\n",
    "'''\n",
    "chi2, p, dof, expected = chi2_contingency(Overweight_df)\n",
    "\n",
    "print(\"\\nChi-Square Test:\")\n",
    "print(f\"Chi-Square Statistic: {chi2}\")\n",
    "print(f\"P-value: {p}\")"
   ]
  },
  {
   "cell_type": "raw",
   "id": "eae26a0d",
   "metadata": {},
   "source": [
    "Assume significance level as 0.05, since p-value < 0.05,the differences between nationalities in terms of overweight are statistically significant."
   ]
  },
  {
   "cell_type": "code",
   "execution_count": 15,
   "id": "ac41c1b4",
   "metadata": {},
   "outputs": [
    {
     "name": "stdout",
     "output_type": "stream",
     "text": [
      "Linear Regression using statsmodels:\n",
      "                            OLS Regression Results                            \n",
      "==============================================================================\n",
      "Dep. Variable:                 Weight   R-squared:                       0.364\n",
      "Model:                            OLS   Adj. R-squared:                  0.361\n",
      "Method:                 Least Squares   F-statistic:                     135.9\n",
      "Date:                Thu, 21 Sep 2023   Prob (F-statistic):           3.82e-25\n",
      "Time:                        19:58:01   Log-Likelihood:                -927.86\n",
      "No. Observations:                 240   AIC:                             1860.\n",
      "Df Residuals:                     238   BIC:                             1867.\n",
      "Df Model:                           1                                         \n",
      "Covariance Type:            nonrobust                                         \n",
      "==============================================================================\n",
      "                 coef    std err          t      P>|t|      [0.025      0.975]\n",
      "------------------------------------------------------------------------------\n",
      "const        -28.2547     17.138     -1.649      0.101     -62.016       5.507\n",
      "Height         2.8537      0.245     11.659      0.000       2.371       3.336\n",
      "==============================================================================\n",
      "Omnibus:                        9.561   Durbin-Watson:                   1.524\n",
      "Prob(Omnibus):                  0.008   Jarque-Bera (JB):                4.822\n",
      "Skew:                           0.094   Prob(JB):                       0.0897\n",
      "Kurtosis:                       2.332   Cond. No.                     1.60e+03\n",
      "==============================================================================\n",
      "\n",
      "Notes:\n",
      "[1] Standard Errors assume that the covariance matrix of the errors is correctly specified.\n",
      "[2] The condition number is large, 1.6e+03. This might indicate that there are\n",
      "strong multicollinearity or other numerical problems.\n"
     ]
    }
   ],
   "source": [
    "'''\n",
    "3.1. Build a linear regression of to see whether height predicts weight. There are two main modules\n",
    "for conducting linear regression in Python. Use statsmodels. Explain the results.\n",
    "'''\n",
    "X = df['Height'] \n",
    "y = df['Weight'] \n",
    "X = sm.add_constant(X)\n",
    "\n",
    "# Fit the linear regression model\n",
    "model = sm.OLS(y, X).fit()\n",
    "\n",
    "# Print the regression results\n",
    "print(\"Linear Regression using statsmodels:\")\n",
    "print(model.summary())"
   ]
  },
  {
   "cell_type": "raw",
   "id": "fba5c306",
   "metadata": {},
   "source": [
    "R-squared: R-squared measures the goodness of fit of the model. It indicates the proportion of the variance in the dependent variable (Weight) that is explained by the independent variable (Height). In this case, the R-squared is 0.364, suggesting that 36.4% of the variance in weight can be explained by height.\n",
    "Coefficient (coef) for 'Height': The coefficient for 'Height' is 2.8537. This coefficient represents the estimated change in weight (in pounds) for a one-inch change in height. In other words, on average, for each additional inch in height, the weight is expected to increase by approximately 2.8537 pounds.\n",
    "t, P>t (p-value): The t scores and p-values are used for hypothesis test.\n",
    "Std error: Represents the accuracy of the prediction. The lower the standard error, the better prediction.\n",
    "t, P>t (p-value): The t scores and p-values are used for hypothesis test. The “Height” variable has a statistically significant p-value. Also, we can say at a 95% percent confidence level that the value of “Height” is between 2.371 to 3.336."
   ]
  },
  {
   "cell_type": "code",
   "execution_count": 16,
   "id": "05f8ee20",
   "metadata": {},
   "outputs": [
    {
     "name": "stdout",
     "output_type": "stream",
     "text": [
      "\n",
      "Linear Regression using Linear Algebra (Beta Coefficients):\n",
      "Intercept (Beta 0): -28.254701729393005\n",
      "Height coefficient (Beta 1): 2.8536531102606486\n"
     ]
    }
   ],
   "source": [
    "'''\n",
    "3.2. Fit the same regression model using linear algebra. Compare your resultant ’s to the ones you \n",
    "obtained earlier\n",
    "'''\n",
    "X_matrix = np.column_stack((np.ones(len(X)), X['Height']))\n",
    "\n",
    "# Calculate the beta coefficients using linear algebra (OLS formula)\n",
    "beta = np.linalg.inv(X_matrix.T.dot(X_matrix)).dot(X_matrix.T).dot(y)\n",
    "\n",
    "# Print the beta coefficients\n",
    "print(\"\\nLinear Regression using Linear Algebra (Beta Coefficients):\")\n",
    "print(f\"Intercept (Beta 0): {beta[0]}\")\n",
    "print(f\"Height coefficient (Beta 1): {beta[1]}\")"
   ]
  },
  {
   "cell_type": "markdown",
   "id": "4d6c9be0",
   "metadata": {},
   "source": [
    "Regression model using linear algebra has the same resultant compared with the ones we obtained earlier"
   ]
  },
  {
   "cell_type": "code",
   "execution_count": null,
   "id": "4b030859",
   "metadata": {},
   "outputs": [],
   "source": []
  }
 ],
 "metadata": {
  "kernelspec": {
   "display_name": "Python 3 (ipykernel)",
   "language": "python",
   "name": "python3"
  },
  "language_info": {
   "codemirror_mode": {
    "name": "ipython",
    "version": 3
   },
   "file_extension": ".py",
   "mimetype": "text/x-python",
   "name": "python",
   "nbconvert_exporter": "python",
   "pygments_lexer": "ipython3",
   "version": "3.9.12"
  }
 },
 "nbformat": 4,
 "nbformat_minor": 5
}
