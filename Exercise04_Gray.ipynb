{
 "cells": [
  {
   "cell_type": "raw",
   "id": "010080ee",
   "metadata": {},
   "source": [
    "Name:Gray Li\n",
    "ID:511104"
   ]
  },
  {
   "cell_type": "code",
   "execution_count": 1,
   "id": "88796397",
   "metadata": {},
   "outputs": [],
   "source": [
    "import numpy as np\n",
    "import matplotlib.pyplot as plt\n",
    "import pandas as pd\n",
    "from sklearn.model_selection import train_test_split\n",
    "from sklearn.linear_model import LinearRegression\n",
    "from sklearn.metrics import r2_score\n",
    "from sklearn.experimental import enable_iterative_imputer\n",
    "from sklearn.impute import IterativeImputer"
   ]
  },
  {
   "cell_type": "markdown",
   "id": "8046c337",
   "metadata": {},
   "source": [
    "## section 1"
   ]
  },
  {
   "cell_type": "code",
   "execution_count": 2,
   "id": "3b930b83",
   "metadata": {},
   "outputs": [
    {
     "name": "stdout",
     "output_type": "stream",
     "text": [
      "                               Name    Location  Year  Kilometers_Driven  \\\n",
      "0            Maruti Wagon R LXI CNG      Mumbai  2010              72000   \n",
      "1  Hyundai Creta 1.6 CRDi SX Option        Pune  2015              41000   \n",
      "2                      Honda Jazz V     Chennai  2011              46000   \n",
      "3                 Maruti Ertiga VDI     Chennai  2012              87000   \n",
      "4   Audi A4 New 2.0 TDI Multitronic  Coimbatore  2013              40670   \n",
      "\n",
      "  Fuel_Type Transmission Owner_Type  Mileage  Engine   Power  Seats  \\\n",
      "0       CNG       Manual      First    26.60   998.0   58.16    5.0   \n",
      "1    Diesel       Manual      First    19.67  1582.0  126.20    5.0   \n",
      "2    Petrol       Manual      First    18.20  1199.0   88.70    5.0   \n",
      "3    Diesel       Manual      First    20.77  1248.0   88.76    7.0   \n",
      "4    Diesel    Automatic     Second    15.20  1968.0  140.80    5.0   \n",
      "\n",
      "   New_Price  Price  Company      Model  \n",
      "0        NaN   1.75   Maruti     WagonR  \n",
      "1        NaN  12.50  Hyundai   Creta1.6  \n",
      "2  8.61 Lakh   4.50    Honda      JazzV  \n",
      "3        NaN   6.00   Maruti  ErtigaVDI  \n",
      "4        NaN  17.74     Audi      A4New  \n"
     ]
    }
   ],
   "source": [
    "df = pd.read_csv(\"cars.csv\")\n",
    "df1 = df.copy()\n",
    "df1[\"Mileage\"] = df1[\"Mileage\"].str.rstrip(\" kmpl\") \n",
    "df1[\"Mileage\"] = df1[\"Mileage\"].str.rstrip(\" km/g\") \n",
    "df1[\"Engine\"] = df1[\"Engine\"].str.rstrip(\" CC\") \n",
    "df1[\"Power\"] = df1[\"Power\"].str.rstrip(\" bhp\") \n",
    "df1[\"Power\"]= df1[\"Power\"].replace(regex=\"null\", value = np.nan) \n",
    "df1[\"Fuel_Type\"]=df1[\"Fuel_Type\"].astype(\"category\") \n",
    "df1[\"Transmission\"]=df1[\"Transmission\"].astype(\"category\") \n",
    "df1[\"Owner_Type\"]=df1[\"Owner_Type\"].astype(\"category\") \n",
    "df1[\"Mileage\"]=df1[\"Mileage\"].astype(\"float\") \n",
    "df1[\"Power\"]=df1[\"Power\"].astype(\"float\") \n",
    "df1[\"Engine\"]=df1[\"Engine\"].astype(\"float\") \n",
    "df1[\"Company\"]=df1[\"Name\"].str.split(\" \").str[0] \n",
    "df1[\"Model\"]=df1[\"Name\"].str.split(\" \").str[1]+df1[\"Name\"].str.split(\" \").str[2] \n",
    "\n",
    "print(df1.head())"
   ]
  },
  {
   "cell_type": "code",
   "execution_count": 3,
   "id": "28f2ce70",
   "metadata": {},
   "outputs": [
    {
     "data": {
      "image/png": "[encoded data removed]",
      "text/plain": [
       "<Figure size 864x432 with 2 Axes>"
      ]
     },
     "metadata": {
      "needs_background": "light"
     },
     "output_type": "display_data"
    }
   ],
   "source": [
    "'''\n",
    "1. Transform Price so that it looks more normal, produce histograms of the variable before and \n",
    "after transformation\n",
    "'''\n",
    "df1[\"Transformed_Price\"] = np.log1p(df1[\"Price\"])\n",
    "\n",
    "# Plot histograms before and after transformation\n",
    "plt.figure(figsize=(12, 6))\n",
    "plt.subplot(1, 2, 1)\n",
    "plt.hist(df1[\"Price\"], bins=30)\n",
    "plt.title(\"Price Distribution Before Transformation\")\n",
    "plt.subplot(1, 2, 2)\n",
    "plt.hist(df1[\"Transformed_Price\"], bins=30)\n",
    "plt.title(\"Transformed Price Distribution\")\n",
    "plt.show()"
   ]
  },
  {
   "cell_type": "code",
   "execution_count": 12,
   "id": "b792fd56",
   "metadata": {},
   "outputs": [
    {
     "name": "stdout",
     "output_type": "stream",
     "text": [
      "Missing values in Power: 143\n",
      "Missing values in Engine: 36\n"
     ]
    }
   ],
   "source": [
    "'''\n",
    "2. How many values are missing for Power and Engine?\n",
    "'''\n",
    "power_missing = df1[\"Power\"].isnull().sum()\n",
    "engine_missing = df1[\"Engine\"].isnull().sum()\n",
    "\n",
    "print(\"Missing values in Power:\", power_missing)\n",
    "print(\"Missing values in Engine:\", engine_missing)"
   ]
  },
  {
   "cell_type": "code",
   "execution_count": 5,
   "id": "a7245391",
   "metadata": {},
   "outputs": [
    {
     "name": "stdout",
     "output_type": "stream",
     "text": [
      "Column with most missing values: New_Price\n",
      "Missing values: 5195\n"
     ]
    }
   ],
   "source": [
    "'''\n",
    "3. Which column has the most missing values and what should we do about it?\n",
    "'''\n",
    "column_with_most_missing = df1.isnull().sum().idxmax()\n",
    "print(\"Column with most missing values:\", column_with_most_missing)\n",
    "print(\"Missing values:\", df1[column_with_most_missing].isnull().sum())\n",
    "# Decide the imputation strategy based on the column. If it's a categorical column, you might use mode, etc."
   ]
  },
  {
   "cell_type": "raw",
   "id": "d6f6f206",
   "metadata": {},
   "source": [
    "Because the proportion of missing values is too large, I think this column can be deleted"
   ]
  },
  {
   "cell_type": "code",
   "execution_count": 6,
   "id": "fe3306ca",
   "metadata": {},
   "outputs": [
    {
     "name": "stdout",
     "output_type": "stream",
     "text": [
      "Variance Explained by Initial Model: 0.813154710970345\n",
      "Number of rows used for training the initial model: 4699\n"
     ]
    }
   ],
   "source": [
    "'''\n",
    "4. Build a model of transformed price based on Power, Mileage, Kilometers Driven, and Year, how \n",
    "much variance is explained?\n",
    "'''\n",
    "\n",
    "\n",
    "# Features and target variable\n",
    "features = [\"Power\", \"Mileage\", \"Kilometers_Driven\", \"Year\"]\n",
    "target = \"Transformed_Price\"\n",
    "\n",
    "# Drop rows with missing values in any of the selected columns\n",
    "df_model = df1.dropna(subset=features + [target])\n",
    "\n",
    "# Split data into train and test sets\n",
    "X = df_model[features]\n",
    "y = df_model[target]\n",
    "X_train, X_test, y_train, y_test = train_test_split(X, y, test_size=0.2, random_state=42)\n",
    "\n",
    "# Build and train the model\n",
    "model = LinearRegression()\n",
    "model.fit(X_train, y_train)\n",
    "\n",
    "# Make predictions\n",
    "y_pred = model.predict(X_test)\n",
    "\n",
    "# Calculate variance explained\n",
    "variance_explained = r2_score(y_test, y_pred)\n",
    "print(\"Variance Explained by Initial Model:\", variance_explained)\n",
    "print(\"Number of rows used for training the initial model:\", X_train.shape[0])\n"
   ]
  },
  {
   "cell_type": "raw",
   "id": "68cb6668",
   "metadata": {},
   "source": [
    "'''5. How many rows were used to train the model? '''\n",
    "4699 rows"
   ]
  },
  {
   "cell_type": "code",
   "execution_count": 7,
   "id": "59b616e0",
   "metadata": {},
   "outputs": [
    {
     "name": "stdout",
     "output_type": "stream",
     "text": [
      "Variance Explained after imputation: 0.7966600187871471\n",
      "Number of rows used for training the model after imputation: 4815\n"
     ]
    },
    {
     "name": "stderr",
     "output_type": "stream",
     "text": [
      "C:\\Users\\93505\\AppData\\Local\\Temp\\ipykernel_115920\\3993698837.py:7: SettingWithCopyWarning: \n",
      "A value is trying to be set on a copy of a slice from a DataFrame.\n",
      "Try using .loc[row_indexer,col_indexer] = value instead\n",
      "\n",
      "See the caveats in the documentation: https://pandas.pydata.org/pandas-docs/stable/user_guide/indexing.html#returning-a-view-versus-a-copy\n",
      "  df2[\"Power\"]= df1[\"Power\"].fillna(df1[\"Power\"].mean(), inplace=False)\n",
      "C:\\Users\\93505\\AppData\\Local\\Temp\\ipykernel_115920\\3993698837.py:8: SettingWithCopyWarning: \n",
      "A value is trying to be set on a copy of a slice from a DataFrame.\n",
      "Try using .loc[row_indexer,col_indexer] = value instead\n",
      "\n",
      "See the caveats in the documentation: https://pandas.pydata.org/pandas-docs/stable/user_guide/indexing.html#returning-a-view-versus-a-copy\n",
      "  df2[\"Mileage\"] = df1[\"Mileage\"].fillna(df1[\"Mileage\"].mean(), inplace=False)\n"
     ]
    }
   ],
   "source": [
    "'''\n",
    "6. Fill the missing values in Power and Mileage with their respective means and rebuild the model. \n",
    "Now how much variance is explained? \n",
    "'''\n",
    "# Fill missing values with mean\n",
    "df2 = df1[features]\n",
    "df2[\"Power\"]= df1[\"Power\"].fillna(df1[\"Power\"].mean(), inplace=False)\n",
    "df2[\"Mileage\"] = df1[\"Mileage\"].fillna(df1[\"Mileage\"].mean(), inplace=False)\n",
    "\n",
    "# Rebuild the model\n",
    "X = df2[features]\n",
    "y = df1[target]\n",
    "X_train, X_test, y_train, y_test = train_test_split(X, y, test_size=0.2, random_state=42)\n",
    "\n",
    "model = LinearRegression()\n",
    "model.fit(X_train, y_train)\n",
    "\n",
    "y_pred = model.predict(X_test)\n",
    "\n",
    "variance_explained_after_imputation = r2_score(y_test, y_pred)\n",
    "print(\"Variance Explained after imputation:\", variance_explained_after_imputation)\n",
    "print(\"Number of rows used for training the model after imputation:\", X_train.shape[0])\n"
   ]
  },
  {
   "cell_type": "raw",
   "id": "557f5c28",
   "metadata": {},
   "source": [
    "'''7. How many rows were used to train the model?'''\n",
    "4815 rows"
   ]
  },
  {
   "cell_type": "code",
   "execution_count": 8,
   "id": "22fb0007",
   "metadata": {
    "scrolled": true
   },
   "outputs": [
    {
     "name": "stderr",
     "output_type": "stream",
     "text": [
      "C:\\Users\\93505\\AppData\\Local\\Temp\\ipykernel_115920\\3159634818.py:21: SettingWithCopyWarning: \n",
      "A value is trying to be set on a copy of a slice from a DataFrame.\n",
      "Try using .loc[row_indexer,col_indexer] = value instead\n",
      "\n",
      "See the caveats in the documentation: https://pandas.pydata.org/pandas-docs/stable/user_guide/indexing.html#returning-a-view-versus-a-copy\n",
      "  df3.loc[:, [\"Power\", \"Mileage\", \"Kilometers_Driven\", \"Year\"]] = df_imputed\n"
     ]
    },
    {
     "name": "stdout",
     "output_type": "stream",
     "text": [
      "Variance Explained after MICE imputation: 0.7528162077236503\n",
      "Number of rows used for training the model after MICE imputation: 4815\n"
     ]
    }
   ],
   "source": [
    "'''\n",
    "8. Impute the missing data using MICE and rebuild the model \n",
    "MICE documentation: \n",
    "https://www.statsmodels.org/dev/generated/statsmodels.imputation.mice.MICE.html \n",
    "'''\n",
    "\n",
    "imputer = IterativeImputer(random_state=100, max_iter=10)\n",
    "\n",
    "df_train = df1.loc[:, [\"Power\", \"Mileage\", \"Kilometers_Driven\", \"Year\"]]\n",
    "df_train.head()\n",
    "\n",
    "# fit on the dataset\n",
    "imputer.fit(df_train)\n",
    "\n",
    "df_imputed = imputer.transform(df_train)\n",
    "df_imputed[:10]\n",
    "\n",
    "df3 = df1[features]\n",
    "df3.loc[:, [\"Power\", \"Mileage\", \"Kilometers_Driven\", \"Year\"]] = df_imputed\n",
    "\n",
    "# Rebuild the model after imputation\n",
    "X = df3[features]\n",
    "y = df1[target]\n",
    "X_train, X_test, y_train, y_test = train_test_split(X, y, test_size=0.2, random_state=42)\n",
    "\n",
    "model = LinearRegression()\n",
    "model.fit(X_train, y_train)\n",
    "\n",
    "y_pred = model.predict(X_test)\n",
    "\n",
    "variance_explained_after_mice = r2_score(y_test, y_pred)\n",
    "print(\"Variance Explained after MICE imputation:\", variance_explained_after_mice)\n",
    "print(\"Number of rows used for training the model after MICE imputation:\", X_train.shape[0])\n",
    "\n"
   ]
  },
  {
   "cell_type": "code",
   "execution_count": 14,
   "id": "08facf7b",
   "metadata": {},
   "outputs": [
    {
     "data": {
      "text/html": [
       "<div>\n",
       "<style scoped>\n",
       "    .dataframe tbody tr th:only-of-type {\n",
       "        vertical-align: middle;\n",
       "    }\n",
       "\n",
       "    .dataframe tbody tr th {\n",
       "        vertical-align: top;\n",
       "    }\n",
       "\n",
       "    .dataframe thead th {\n",
       "        text-align: right;\n",
       "    }\n",
       "</style>\n",
       "<table border=\"1\" class=\"dataframe\">\n",
       "  <thead>\n",
       "    <tr style=\"text-align: right;\">\n",
       "      <th></th>\n",
       "      <th>Power</th>\n",
       "      <th>Mileage</th>\n",
       "      <th>Kilometers_Driven</th>\n",
       "      <th>Year</th>\n",
       "    </tr>\n",
       "  </thead>\n",
       "  <tbody>\n",
       "    <tr>\n",
       "      <th>0</th>\n",
       "      <td>58.16</td>\n",
       "      <td>26.60</td>\n",
       "      <td>72000.0</td>\n",
       "      <td>2010.0</td>\n",
       "    </tr>\n",
       "    <tr>\n",
       "      <th>1</th>\n",
       "      <td>126.20</td>\n",
       "      <td>19.67</td>\n",
       "      <td>41000.0</td>\n",
       "      <td>2015.0</td>\n",
       "    </tr>\n",
       "    <tr>\n",
       "      <th>2</th>\n",
       "      <td>88.70</td>\n",
       "      <td>18.20</td>\n",
       "      <td>46000.0</td>\n",
       "      <td>2011.0</td>\n",
       "    </tr>\n",
       "    <tr>\n",
       "      <th>3</th>\n",
       "      <td>88.76</td>\n",
       "      <td>20.77</td>\n",
       "      <td>87000.0</td>\n",
       "      <td>2012.0</td>\n",
       "    </tr>\n",
       "    <tr>\n",
       "      <th>4</th>\n",
       "      <td>140.80</td>\n",
       "      <td>15.20</td>\n",
       "      <td>40670.0</td>\n",
       "      <td>2013.0</td>\n",
       "    </tr>\n",
       "    <tr>\n",
       "      <th>...</th>\n",
       "      <td>...</td>\n",
       "      <td>...</td>\n",
       "      <td>...</td>\n",
       "      <td>...</td>\n",
       "    </tr>\n",
       "    <tr>\n",
       "      <th>6014</th>\n",
       "      <td>74.00</td>\n",
       "      <td>28.40</td>\n",
       "      <td>27365.0</td>\n",
       "      <td>2014.0</td>\n",
       "    </tr>\n",
       "    <tr>\n",
       "      <th>6015</th>\n",
       "      <td>71.00</td>\n",
       "      <td>24.40</td>\n",
       "      <td>100000.0</td>\n",
       "      <td>2015.0</td>\n",
       "    </tr>\n",
       "    <tr>\n",
       "      <th>6016</th>\n",
       "      <td>112.00</td>\n",
       "      <td>14.00</td>\n",
       "      <td>55000.0</td>\n",
       "      <td>2012.0</td>\n",
       "    </tr>\n",
       "    <tr>\n",
       "      <th>6017</th>\n",
       "      <td>67.10</td>\n",
       "      <td>18.90</td>\n",
       "      <td>46000.0</td>\n",
       "      <td>2013.0</td>\n",
       "    </tr>\n",
       "    <tr>\n",
       "      <th>6018</th>\n",
       "      <td>57.60</td>\n",
       "      <td>25.44</td>\n",
       "      <td>47000.0</td>\n",
       "      <td>2011.0</td>\n",
       "    </tr>\n",
       "  </tbody>\n",
       "</table>\n",
       "<p>6019 rows × 4 columns</p>\n",
       "</div>"
      ],
      "text/plain": [
       "       Power  Mileage  Kilometers_Driven    Year\n",
       "0      58.16    26.60            72000.0  2010.0\n",
       "1     126.20    19.67            41000.0  2015.0\n",
       "2      88.70    18.20            46000.0  2011.0\n",
       "3      88.76    20.77            87000.0  2012.0\n",
       "4     140.80    15.20            40670.0  2013.0\n",
       "...      ...      ...                ...     ...\n",
       "6014   74.00    28.40            27365.0  2014.0\n",
       "6015   71.00    24.40           100000.0  2015.0\n",
       "6016  112.00    14.00            55000.0  2012.0\n",
       "6017   67.10    18.90            46000.0  2013.0\n",
       "6018   57.60    25.44            47000.0  2011.0\n",
       "\n",
       "[6019 rows x 4 columns]"
      ]
     },
     "execution_count": 14,
     "metadata": {},
     "output_type": "execute_result"
    }
   ],
   "source": [
    "df3"
   ]
  },
  {
   "cell_type": "raw",
   "id": "9153149b",
   "metadata": {},
   "source": [
    "'''9. How have the parameter estimates changed from step 4?'''\n",
    "Variance Explained in step 4:0.813154710970345\n",
    "Variance Explained in step 8:Variance Explained in step 4:0.813154710970345\n",
    "\n",
    "It means the performance of fit becomes worse, which indicates that the MICE method to impute missing value might be not proper."
   ]
  },
  {
   "cell_type": "code",
   "execution_count": 11,
   "id": "5476cfc5",
   "metadata": {},
   "outputs": [
    {
     "data": {
      "image/png": "[encoded data removed]",
      "text/plain": [
       "<Figure size 1440x720 with 1 Axes>"
      ]
     },
     "metadata": {
      "needs_background": "light"
     },
     "output_type": "display_data"
    }
   ],
   "source": [
    "'''10. Plot the distribution of Power with and without MICE \n",
    "'''\n",
    "plt.figure(figsize=(20,10))\n",
    "plt.hist(df3['Power'],bins=90,label='with MICE',color=\"red\")\n",
    "plt.hist(df1['Power'],bins=100,label='without MICE',color=\"skyblue\")\n",
    "plt.legend(loc='upper right')\n",
    "plt.title(\"Distribution of Power with and without MICE\")\n",
    "plt.show()"
   ]
  },
  {
   "cell_type": "code",
   "execution_count": 15,
   "id": "03fe2841",
   "metadata": {},
   "outputs": [
    {
     "data": {
      "image/png": "[encoded data removed]",
      "text/plain": [
       "<Figure size 1440x720 with 1 Axes>"
      ]
     },
     "metadata": {
      "needs_background": "light"
     },
     "output_type": "display_data"
    }
   ],
   "source": [
    "'''\n",
    "11. Plot the distribution of Engine with and without MICE\n",
    "'''\n",
    "plt.figure(figsize=(20,10))\n",
    "plt.hist(df3['Mileage'],bins=100,label='with MICE',color=\"red\")\n",
    "plt.hist(df1['Mileage'],bins=100,label='without MICE',color=\"skyblue\")\n",
    "plt.legend(loc='upper right')\n",
    "plt.title(\"Distribution of Engine with and without MICE\")\n",
    "plt.show()"
   ]
  },
  {
   "cell_type": "markdown",
   "id": "6b96d97e",
   "metadata": {},
   "source": [
    "## Section 2"
   ]
  },
  {
   "cell_type": "code",
   "execution_count": 34,
   "id": "9589e0d1",
   "metadata": {},
   "outputs": [
    {
     "data": {
      "text/html": [
       "<div>\n",
       "<style scoped>\n",
       "    .dataframe tbody tr th:only-of-type {\n",
       "        vertical-align: middle;\n",
       "    }\n",
       "\n",
       "    .dataframe tbody tr th {\n",
       "        vertical-align: top;\n",
       "    }\n",
       "\n",
       "    .dataframe thead th {\n",
       "        text-align: right;\n",
       "    }\n",
       "</style>\n",
       "<table border=\"1\" class=\"dataframe\">\n",
       "  <thead>\n",
       "    <tr style=\"text-align: right;\">\n",
       "      <th></th>\n",
       "      <th>income</th>\n",
       "      <th>schoolYears</th>\n",
       "      <th>age</th>\n",
       "      <th>spend</th>\n",
       "      <th>sex_female</th>\n",
       "      <th>sex_male</th>\n",
       "      <th>race_asian</th>\n",
       "      <th>race_black</th>\n",
       "      <th>race_hispanic</th>\n",
       "      <th>race_white</th>\n",
       "      <th>hispanic_male</th>\n",
       "      <th>hispanic_female</th>\n",
       "      <th>white_male</th>\n",
       "      <th>white_female</th>\n",
       "      <th>black_male</th>\n",
       "      <th>black_female</th>\n",
       "      <th>asian_male</th>\n",
       "      <th>asian_female</th>\n",
       "    </tr>\n",
       "  </thead>\n",
       "  <tbody>\n",
       "    <tr>\n",
       "      <th>0</th>\n",
       "      <td>157966.0</td>\n",
       "      <td>18.0</td>\n",
       "      <td>31.0</td>\n",
       "      <td>659.97</td>\n",
       "      <td>0</td>\n",
       "      <td>1</td>\n",
       "      <td>0</td>\n",
       "      <td>0</td>\n",
       "      <td>0</td>\n",
       "      <td>1</td>\n",
       "      <td>0</td>\n",
       "      <td>0</td>\n",
       "      <td>1</td>\n",
       "      <td>0</td>\n",
       "      <td>0</td>\n",
       "      <td>0</td>\n",
       "      <td>0</td>\n",
       "      <td>0</td>\n",
       "    </tr>\n",
       "    <tr>\n",
       "      <th>1</th>\n",
       "      <td>11134.0</td>\n",
       "      <td>14.0</td>\n",
       "      <td>50.0</td>\n",
       "      <td>719.69</td>\n",
       "      <td>1</td>\n",
       "      <td>0</td>\n",
       "      <td>0</td>\n",
       "      <td>0</td>\n",
       "      <td>0</td>\n",
       "      <td>1</td>\n",
       "      <td>0</td>\n",
       "      <td>0</td>\n",
       "      <td>0</td>\n",
       "      <td>1</td>\n",
       "      <td>0</td>\n",
       "      <td>0</td>\n",
       "      <td>0</td>\n",
       "      <td>0</td>\n",
       "    </tr>\n",
       "    <tr>\n",
       "      <th>2</th>\n",
       "      <td>555369.0</td>\n",
       "      <td>14.0</td>\n",
       "      <td>32.0</td>\n",
       "      <td>854.61</td>\n",
       "      <td>0</td>\n",
       "      <td>1</td>\n",
       "      <td>0</td>\n",
       "      <td>0</td>\n",
       "      <td>1</td>\n",
       "      <td>0</td>\n",
       "      <td>1</td>\n",
       "      <td>0</td>\n",
       "      <td>0</td>\n",
       "      <td>0</td>\n",
       "      <td>0</td>\n",
       "      <td>0</td>\n",
       "      <td>0</td>\n",
       "      <td>0</td>\n",
       "    </tr>\n",
       "    <tr>\n",
       "      <th>3</th>\n",
       "      <td>272387.0</td>\n",
       "      <td>18.0</td>\n",
       "      <td>52.0</td>\n",
       "      <td>855.20</td>\n",
       "      <td>1</td>\n",
       "      <td>0</td>\n",
       "      <td>0</td>\n",
       "      <td>0</td>\n",
       "      <td>0</td>\n",
       "      <td>1</td>\n",
       "      <td>0</td>\n",
       "      <td>0</td>\n",
       "      <td>0</td>\n",
       "      <td>1</td>\n",
       "      <td>0</td>\n",
       "      <td>0</td>\n",
       "      <td>0</td>\n",
       "      <td>0</td>\n",
       "    </tr>\n",
       "    <tr>\n",
       "      <th>4</th>\n",
       "      <td>105459.0</td>\n",
       "      <td>17.0</td>\n",
       "      <td>49.0</td>\n",
       "      <td>758.33</td>\n",
       "      <td>1</td>\n",
       "      <td>0</td>\n",
       "      <td>0</td>\n",
       "      <td>0</td>\n",
       "      <td>0</td>\n",
       "      <td>1</td>\n",
       "      <td>0</td>\n",
       "      <td>0</td>\n",
       "      <td>0</td>\n",
       "      <td>1</td>\n",
       "      <td>0</td>\n",
       "      <td>0</td>\n",
       "      <td>0</td>\n",
       "      <td>0</td>\n",
       "    </tr>\n",
       "    <tr>\n",
       "      <th>...</th>\n",
       "      <td>...</td>\n",
       "      <td>...</td>\n",
       "      <td>...</td>\n",
       "      <td>...</td>\n",
       "      <td>...</td>\n",
       "      <td>...</td>\n",
       "      <td>...</td>\n",
       "      <td>...</td>\n",
       "      <td>...</td>\n",
       "      <td>...</td>\n",
       "      <td>...</td>\n",
       "      <td>...</td>\n",
       "      <td>...</td>\n",
       "      <td>...</td>\n",
       "      <td>...</td>\n",
       "      <td>...</td>\n",
       "      <td>...</td>\n",
       "      <td>...</td>\n",
       "    </tr>\n",
       "    <tr>\n",
       "      <th>9995</th>\n",
       "      <td>17309.0</td>\n",
       "      <td>11.0</td>\n",
       "      <td>51.0</td>\n",
       "      <td>750.85</td>\n",
       "      <td>1</td>\n",
       "      <td>0</td>\n",
       "      <td>0</td>\n",
       "      <td>0</td>\n",
       "      <td>1</td>\n",
       "      <td>0</td>\n",
       "      <td>0</td>\n",
       "      <td>1</td>\n",
       "      <td>0</td>\n",
       "      <td>0</td>\n",
       "      <td>0</td>\n",
       "      <td>0</td>\n",
       "      <td>0</td>\n",
       "      <td>0</td>\n",
       "    </tr>\n",
       "    <tr>\n",
       "      <th>9996</th>\n",
       "      <td>63122.0</td>\n",
       "      <td>15.0</td>\n",
       "      <td>47.0</td>\n",
       "      <td>523.34</td>\n",
       "      <td>1</td>\n",
       "      <td>0</td>\n",
       "      <td>0</td>\n",
       "      <td>1</td>\n",
       "      <td>0</td>\n",
       "      <td>0</td>\n",
       "      <td>0</td>\n",
       "      <td>0</td>\n",
       "      <td>0</td>\n",
       "      <td>0</td>\n",
       "      <td>0</td>\n",
       "      <td>1</td>\n",
       "      <td>0</td>\n",
       "      <td>0</td>\n",
       "    </tr>\n",
       "    <tr>\n",
       "      <th>9997</th>\n",
       "      <td>27525.0</td>\n",
       "      <td>14.0</td>\n",
       "      <td>54.0</td>\n",
       "      <td>804.27</td>\n",
       "      <td>1</td>\n",
       "      <td>0</td>\n",
       "      <td>0</td>\n",
       "      <td>0</td>\n",
       "      <td>0</td>\n",
       "      <td>1</td>\n",
       "      <td>0</td>\n",
       "      <td>0</td>\n",
       "      <td>0</td>\n",
       "      <td>1</td>\n",
       "      <td>0</td>\n",
       "      <td>0</td>\n",
       "      <td>0</td>\n",
       "      <td>0</td>\n",
       "    </tr>\n",
       "    <tr>\n",
       "      <th>9998</th>\n",
       "      <td>111824.0</td>\n",
       "      <td>18.0</td>\n",
       "      <td>29.0</td>\n",
       "      <td>626.38</td>\n",
       "      <td>0</td>\n",
       "      <td>1</td>\n",
       "      <td>0</td>\n",
       "      <td>0</td>\n",
       "      <td>0</td>\n",
       "      <td>1</td>\n",
       "      <td>0</td>\n",
       "      <td>0</td>\n",
       "      <td>1</td>\n",
       "      <td>0</td>\n",
       "      <td>0</td>\n",
       "      <td>0</td>\n",
       "      <td>0</td>\n",
       "      <td>0</td>\n",
       "    </tr>\n",
       "    <tr>\n",
       "      <th>9999</th>\n",
       "      <td>4359.0</td>\n",
       "      <td>13.0</td>\n",
       "      <td>32.0</td>\n",
       "      <td>773.88</td>\n",
       "      <td>0</td>\n",
       "      <td>1</td>\n",
       "      <td>0</td>\n",
       "      <td>0</td>\n",
       "      <td>1</td>\n",
       "      <td>0</td>\n",
       "      <td>1</td>\n",
       "      <td>0</td>\n",
       "      <td>0</td>\n",
       "      <td>0</td>\n",
       "      <td>0</td>\n",
       "      <td>0</td>\n",
       "      <td>0</td>\n",
       "      <td>0</td>\n",
       "    </tr>\n",
       "  </tbody>\n",
       "</table>\n",
       "<p>10000 rows × 18 columns</p>\n",
       "</div>"
      ],
      "text/plain": [
       "        income  schoolYears   age   spend  sex_female  sex_male  race_asian  \\\n",
       "0     157966.0         18.0  31.0  659.97           0         1           0   \n",
       "1      11134.0         14.0  50.0  719.69           1         0           0   \n",
       "2     555369.0         14.0  32.0  854.61           0         1           0   \n",
       "3     272387.0         18.0  52.0  855.20           1         0           0   \n",
       "4     105459.0         17.0  49.0  758.33           1         0           0   \n",
       "...        ...          ...   ...     ...         ...       ...         ...   \n",
       "9995   17309.0         11.0  51.0  750.85           1         0           0   \n",
       "9996   63122.0         15.0  47.0  523.34           1         0           0   \n",
       "9997   27525.0         14.0  54.0  804.27           1         0           0   \n",
       "9998  111824.0         18.0  29.0  626.38           0         1           0   \n",
       "9999    4359.0         13.0  32.0  773.88           0         1           0   \n",
       "\n",
       "      race_black  race_hispanic  race_white  hispanic_male  hispanic_female  \\\n",
       "0              0              0           1              0                0   \n",
       "1              0              0           1              0                0   \n",
       "2              0              1           0              1                0   \n",
       "3              0              0           1              0                0   \n",
       "4              0              0           1              0                0   \n",
       "...          ...            ...         ...            ...              ...   \n",
       "9995           0              1           0              0                1   \n",
       "9996           1              0           0              0                0   \n",
       "9997           0              0           1              0                0   \n",
       "9998           0              0           1              0                0   \n",
       "9999           0              1           0              1                0   \n",
       "\n",
       "      white_male  white_female  black_male  black_female  asian_male  \\\n",
       "0              1             0           0             0           0   \n",
       "1              0             1           0             0           0   \n",
       "2              0             0           0             0           0   \n",
       "3              0             1           0             0           0   \n",
       "4              0             1           0             0           0   \n",
       "...          ...           ...         ...           ...         ...   \n",
       "9995           0             0           0             0           0   \n",
       "9996           0             0           0             1           0   \n",
       "9997           0             1           0             0           0   \n",
       "9998           1             0           0             0           0   \n",
       "9999           0             0           0             0           0   \n",
       "\n",
       "      asian_female  \n",
       "0                0  \n",
       "1                0  \n",
       "2                0  \n",
       "3                0  \n",
       "4                0  \n",
       "...            ...  \n",
       "9995             0  \n",
       "9996             0  \n",
       "9997             0  \n",
       "9998             0  \n",
       "9999             0  \n",
       "\n",
       "[10000 rows x 18 columns]"
      ]
     },
     "execution_count": 34,
     "metadata": {},
     "output_type": "execute_result"
    }
   ],
   "source": [
    "customerDf = pd.read_csv(\"lab06_customers.csv\")\n",
    "customerDf = pd.get_dummies(data=customerDf, columns=['sex', 'race'], prefix=['sex', 'race'])\n",
    "customerDf[\"hispanic_male\"] = np.multiply(customerDf[\"race_hispanic\"], customerDf[\"sex_male\"])\n",
    "customerDf[\"hispanic_female\"] = np.multiply(customerDf[\"race_hispanic\"],customerDf[\"sex_female\"])\n",
    "customerDf[\"white_male\"] = np.multiply(customerDf[\"race_white\"],customerDf[\"sex_male\"])\n",
    "customerDf[\"white_female\"] = np.multiply(customerDf[\"race_white\"],customerDf[\"sex_female\"])\n",
    "customerDf[\"black_male\"] = np.multiply(customerDf[\"race_black\"],customerDf[\"sex_male\"])\n",
    "customerDf[\"black_female\"] = np.multiply(customerDf[\"race_black\"],customerDf[\"sex_female\"])\n",
    "customerDf[\"asian_male\"] = np.multiply(customerDf[\"race_asian\"],customerDf[\"sex_male\"])\n",
    "customerDf[\"asian_female\"] = np.multiply(customerDf[\"race_asian\"],customerDf[\"sex_female\"])\n",
    "# drop other category for race and sex\n",
    "customerDf.drop(columns = ['sex_other', 'race_other'], inplace = True)\n",
    "customerDf\n"
   ]
  },
  {
   "cell_type": "code",
   "execution_count": 43,
   "id": "e35b078c",
   "metadata": {},
   "outputs": [
    {
     "name": "stdout",
     "output_type": "stream",
     "text": [
      "Variance Explained after MICE imputation: 0.8642171770661521\n",
      "Number of rows used for training the model after MICE imputation: 8000\n"
     ]
    }
   ],
   "source": [
    "'''\n",
    "1. Build a linear regression with all the dependent variables and two way interactions between sex \n",
    "and race, consider the other category for race and sex to be the reference category and treat it \n",
    "appropriately \n",
    "'''\n",
    "\n",
    "# Build linear regression model\n",
    "X = customerDf.drop([\"spend\"], axis=1)\n",
    "y = customerDf[\"spend\"]\n",
    "\n",
    "\n",
    "X_train, X_test, y_train, y_test = train_test_split(X, y, test_size=0.2, random_state=42)\n",
    "\n",
    "lr_model = LinearRegression()\n",
    "lr_model.fit(X_train, y_train)\n",
    "\n",
    "y_pred = model.predict(X_test)\n",
    "\n",
    "variance_explained_after_mice = r2_score(y_test, y_pred)\n",
    "print(\"Variance Explained after MICE imputation:\", variance_explained_after_mice)\n",
    "print(\"Number of rows used for training the model after MICE imputation:\", X_train.shape[0])\n"
   ]
  },
  {
   "cell_type": "code",
   "execution_count": 45,
   "id": "8c2fff68",
   "metadata": {},
   "outputs": [
    {
     "data": {
      "image/png": "[encoded data removed]",
      "text/plain": [
       "<Figure size 864x432 with 1 Axes>"
      ]
     },
     "metadata": {
      "needs_background": "light"
     },
     "output_type": "display_data"
    }
   ],
   "source": [
    "'''\n",
    "2. Build ridge models with various values for alpha. Create a chart showing how the coefficients \n",
    "change with alpha values \n",
    "'''\n",
    "from sklearn.linear_model import Ridge\n",
    "import matplotlib.pyplot as plt\n",
    "\n",
    "alphas = [0.1, 1, 10, 100]\n",
    "coefficients = []\n",
    "\n",
    "for alpha in alphas:\n",
    "    ridge_model = Ridge(alpha=alpha)\n",
    "    ridge_model.fit(X_train, y_train)\n",
    "    coefficients.append(ridge_model.coef_)\n",
    "\n",
    "# Plot the coefficients against alpha values\n",
    "plt.figure(figsize=(12, 6))\n",
    "for i in range(X.shape[1]):  \n",
    "    plt.plot(alphas, [coef[i] for coef in coefficients], label=X.columns[i])\n",
    "plt.xscale('log')\n",
    "plt.xlabel('Alpha (Regularization Strength)')\n",
    "plt.ylabel('Coefficient Value')\n",
    "plt.title('Ridge Regression Coefficients vs. Alpha')\n",
    "plt.legend()\n",
    "plt.show()\n"
   ]
  },
  {
   "cell_type": "code",
   "execution_count": 44,
   "id": "21129ecd",
   "metadata": {},
   "outputs": [
    {
     "name": "stderr",
     "output_type": "stream",
     "text": [
      "D:\\software\\anaconda\\lib\\site-packages\\sklearn\\linear_model\\_coordinate_descent.py:647: ConvergenceWarning: Objective did not converge. You might want to increase the number of iterations, check the scale of the features or consider increasing regularisation. Duality gap: 1.431e+06, tolerance: 1.077e+04\n",
      "  model = cd_fast.enet_coordinate_descent(\n",
      "D:\\software\\anaconda\\lib\\site-packages\\sklearn\\linear_model\\_coordinate_descent.py:647: ConvergenceWarning: Objective did not converge. You might want to increase the number of iterations, check the scale of the features or consider increasing regularisation. Duality gap: 4.162e+05, tolerance: 1.077e+04\n",
      "  model = cd_fast.enet_coordinate_descent(\n"
     ]
    },
    {
     "data": {
      "image/png": "[encoded data removed]",
      "text/plain": [
       "<Figure size 720x432 with 1 Axes>"
      ]
     },
     "metadata": {
      "needs_background": "light"
     },
     "output_type": "display_data"
    }
   ],
   "source": [
    "'''\n",
    "3. Build lasso models with various values for alpha. Create a chart showing how the coefficients \n",
    "change with alpha values \n",
    "'''\n",
    "from sklearn.linear_model import Lasso\n",
    "\n",
    "coefficients = []\n",
    "\n",
    "for alpha in alphas:\n",
    "    lasso_model = Lasso(alpha=alpha)\n",
    "    lasso_model.fit(X_train, y_train)\n",
    "    coefficients.append(lasso_model.coef_)\n",
    "\n",
    "# Plotting coefficients for different alpha values\n",
    "plt.figure(figsize=(10, 6))\n",
    "for i in range(len(X.columns)):\n",
    "    plt.plot(alphas, [coef[i] for coef in coefficients], label=X.columns[i])\n",
    "\n",
    "plt.xlabel('Alpha')\n",
    "plt.ylabel('Coefficient Value')\n",
    "plt.legend()\n",
    "plt.title('Lasso Coefficients vs. Alpha')\n",
    "plt.xscale('log')\n",
    "plt.show()\n"
   ]
  },
  {
   "cell_type": "code",
   "execution_count": 38,
   "id": "fff2c2d5",
   "metadata": {},
   "outputs": [
    {
     "name": "stdout",
     "output_type": "stream",
     "text": [
      "Linear Regression Coefficients: [ 23295.29056126  -5998.30197265    290.44258034  48054.34497692\n",
      " -28016.0485592  -63703.90005866 -18547.14692217 -26411.33466573\n",
      " -42938.37641543 -20258.8943175   21505.15585978 -15289.06202884\n",
      " -10251.32166018  12855.54373544  78381.80895574 -13002.60243062\n",
      " -50701.29762804]\n",
      "Ridge Coefficients: [ 5.56848774e-05  6.18532710e+00  2.09926175e+01 -1.96543952e+02\n",
      "  1.04324657e+02  3.07297916e+01 -4.25597824e+01  4.79454097e+01\n",
      "  6.07931480e+00  1.03236235e+02 -4.50242193e+01 -1.12965978e+01\n",
      " -1.28559969e+01  4.34794282e+01 -1.66259252e+02 -4.11180272e+01\n",
      "  7.18478188e+01]\n",
      "Lasso Coefficients: [ 5.82702627e-05  5.89083926e+00  1.99742573e+01 -1.92263767e+02\n",
      "  9.03979523e+01  0.00000000e+00 -0.00000000e+00  2.55175495e+00\n",
      " -2.78191923e+00  1.36210392e+02 -0.00000000e+00 -0.00000000e+00\n",
      " -0.00000000e+00  0.00000000e+00 -1.92428460e+02 -0.00000000e+00\n",
      "  6.57193207e+01]\n"
     ]
    },
    {
     "name": "stderr",
     "output_type": "stream",
     "text": [
      "D:\\software\\anaconda\\lib\\site-packages\\sklearn\\linear_model\\_coordinate_descent.py:647: ConvergenceWarning: Objective did not converge. You might want to increase the number of iterations, check the scale of the features or consider increasing regularisation. Duality gap: 6.666e+05, tolerance: 1.345e+04\n",
      "  model = cd_fast.enet_coordinate_descent(\n"
     ]
    }
   ],
   "source": [
    "'''\n",
    "4. Compare the coefficients from linear regression, ridge, and lasso (select an alpha value using \n",
    "your chart) \n",
    "'''\n",
    "selected_alpha = 1  # Choose an alpha value based on the visualization\n",
    "\n",
    "ridge_model = Ridge(alpha=selected_alpha)\n",
    "ridge_model.fit(X, y)\n",
    "lasso_model = Lasso(alpha=selected_alpha)\n",
    "lasso_model.fit(X, y)\n",
    "\n",
    "print(\"Linear Regression Coefficients:\", lr_model.coef_)\n",
    "print(\"Ridge Coefficients:\", ridge_model.coef_)\n",
    "print(\"Lasso Coefficients:\", lasso_model.coef_)\n"
   ]
  },
  {
   "cell_type": "code",
   "execution_count": 47,
   "id": "c0ebef9a",
   "metadata": {},
   "outputs": [
    {
     "name": "stdout",
     "output_type": "stream",
     "text": [
      "R-squared for Linear Regression: 0.8635651143304007\n",
      "R-squared for Ridge Regression: 0.8567143020926792\n",
      "R-squared for Lasso Regression: 0.09900663804979992\n"
     ]
    }
   ],
   "source": [
    "'''\n",
    "5. Compare the R2 from lr, ridge, and lasso \n",
    "'''\n",
    "from sklearn.metrics import r2_score\n",
    "\n",
    "# Predictions\n",
    "lr_predictions = lr_model.predict(X_test)\n",
    "ridge_predictions = ridge_model.predict(X_test)\n",
    "lasso_predictions = lasso_model.predict(X_test)\n",
    "\n",
    "# Calculate R-squared values\n",
    "lr_r2 = r2_score(y_test, lr_predictions)\n",
    "ridge_r2 = r2_score(y_test, ridge_predictions)\n",
    "lasso_r2 = r2_score(y_test, lasso_predictions)\n",
    "\n",
    "print(\"R-squared for Linear Regression:\", lr_r2)\n",
    "print(\"R-squared for Ridge Regression:\", ridge_r2)\n",
    "print(\"R-squared for Lasso Regression:\", lasso_r2)\n"
   ]
  },
  {
   "cell_type": "raw",
   "id": "9e701261",
   "metadata": {},
   "source": [
    "'''\n",
    "6. Which model would you choose, and why?\n",
    "'''\n",
    "I'll choose linear regression model, because its R2 is the highest on test data, which means its fit performance is the best"
   ]
  },
  {
   "cell_type": "code",
   "execution_count": 49,
   "id": "8b46483c",
   "metadata": {},
   "outputs": [
    {
     "name": "stdout",
     "output_type": "stream",
     "text": [
      "Variables dropped by Ridge: ['income', 'age', 'sex_female', 'race_asian', 'race_hispanic', 'race_white', 'hispanic_male', 'hispanic_female', 'white_male', 'white_female', 'black_female', 'asian_male', 'asian_female']\n",
      "Variables dropped by Lasso: ['schoolYears', 'sex_female', 'sex_male', 'race_asian', 'race_black', 'race_hispanic', 'race_white', 'hispanic_male', 'hispanic_female', 'white_male', 'white_female', 'black_male', 'black_female', 'asian_male', 'asian_female']\n"
     ]
    }
   ],
   "source": [
    "'''\n",
    "7. Which variables are dropped from the chosen model that were not dropped in linear \n",
    "regression?\n",
    "'''\n",
    "coefficients_lr = lr_model.coef_\n",
    "coefficients_ridge = ridge_model.coef_\n",
    "coefficients_lasso = lasso_model.coef_\n",
    "\n",
    "# Find the variables dropped by Ridge \n",
    "variables_dropped_by_ridge = [variable for variable, coef_lr, coef_ridge in zip(X.columns, coefficients_lr, coefficients_ridge) if abs(coef_ridge) < abs(coef_lr)]\n",
    "\n",
    "# Find the variables dropped by Lasso \n",
    "variables_dropped_by_lasso = [variable for variable, coef_lasso in zip(X.columns, coefficients_lasso) if coef_lasso == 0]\n",
    "\n",
    "# Print or examine the variables dropped by Ridge and Lasso\n",
    "print(\"Variables dropped by Ridge:\", variables_dropped_by_ridge)\n",
    "print(\"Variables dropped by Lasso:\", variables_dropped_by_lasso)\n"
   ]
  },
  {
   "cell_type": "code",
   "execution_count": null,
   "id": "04800612",
   "metadata": {},
   "outputs": [],
   "source": []
  }
 ],
 "metadata": {
  "kernelspec": {
   "display_name": "Python 3 (ipykernel)",
   "language": "python",
   "name": "python3"
  },
  "language_info": {
   "codemirror_mode": {
    "name": "ipython",
    "version": 3
   },
   "file_extension": ".py",
   "mimetype": "text/x-python",
   "name": "python",
   "nbconvert_exporter": "python",
   "pygments_lexer": "ipython3",
   "version": "3.9.12"
  }
 },
 "nbformat": 4,
 "nbformat_minor": 5
}
